{
 "cells": [
  {
   "cell_type": "markdown",
   "metadata": {},
   "source": [
    "## Implement Wiedmann work on PxI SUT"
   ]
  },
  {
   "cell_type": "code",
   "execution_count": null,
   "metadata": {},
   "outputs": [],
   "source": [
    "# reviewing paper\n",
    "# TIMs = m are 'scope 3' calculated via\n",
    "# m = f*inv(I-A) = f*L where \n",
    "# f is direct intensity factors (DIMS)\n",
    "# that is, the total impact F divided by the industry output\n",
    "# F could be a matrix of several impacts, or just one impact by industry\n",
    "# A is the 'technology coefficient' matrix which is the product of the \n",
    "# T table (transaction table) and the inverse of industry output\n",
    "# ie 'normalized input-output'\n",
    "\n"
   ]
  },
  {
   "cell_type": "code",
   "execution_count": null,
   "metadata": {},
   "outputs": [],
   "source": [
    "# example data\n",
    "import pandas as pd\n",
    "\n",
    "sut = pd.read_excel('data/wiedmann.xlsx',\n",
    "                    sheet_name='su_table',\n",
    "                    index_col=0)\n",
    "num_industries = 6\n",
    "num_products = 10"
   ]
  },
  {
   "cell_type": "code",
   "execution_count": null,
   "metadata": {},
   "outputs": [],
   "source": [
    "# extract the various pieces as arrays\n",
    "# make them linalg objects and compute derivative objects\n",
    "import numpy as np\n",
    "\n",
    "x = sut['output'].drop(index='Emissions').to_numpy()\n",
    "y = sut['demand'].drop(index='Emissions').to_numpy()\n",
    "f = sut.drop(columns=['output','demand']).loc['Emissions'].to_numpy()\n",
    "sut = sut.drop(index='Emissions',columns=['output','demand']).to_numpy()\n",
    "\n",
    "x_hat = np.diag(x) # correct\n",
    "tech_coef = np.dot(sut,np.linalg.inv(x_hat)) # correct\n",
    "dims = np.dot(f,np.linalg.inv(x_hat)) # correct\n",
    "leontief = np.linalg.inv(np.eye(x.shape[0])-tech_coef) # correct\n",
    "tims = np.dot(dims,leontief) # correct\n"
   ]
  },
  {
   "cell_type": "code",
   "execution_count": null,
   "metadata": {},
   "outputs": [],
   "source": [
    "# decomposing by industry\n",
    "tims_by_industry = np.dot(np.diag(dims),leontief) # correct\n",
    "# matrix of TIMs decomposed by industry\n",
    "# all supply chain paths that start with industry i (and its impact) and end up\n",
    "# with product p sum up to the total share of industry i in the TIM of product p\n",
    "    # see series-expansion derivation for explanation\n",
    "# the top-right block of this table is most useful for footprinting as\n",
    "# products are in demand, not industries (top left block)\n"
   ]
  },
  {
   "cell_type": "code",
   "execution_count": null,
   "metadata": {},
   "outputs": [],
   "source": [
    "# The carbon map is a decomposition of the total CF of the final demand for products \n",
    "# np.round(np.dot(m_industry,np.diag(y))) # correct"
   ]
  },
  {
   "cell_type": "code",
   "execution_count": null,
   "metadata": {},
   "outputs": [
    {
     "data": {
      "text/plain": [
       "array([[0.18018018, 0.        , 0.        , 0.        , 0.        ,\n",
       "        0.        , 0.64877466, 0.64877466, 0.05724482, 0.        ,\n",
       "        0.        , 0.        , 0.        , 0.        , 0.        ,\n",
       "        0.        ],\n",
       "       [0.        , 0.32967033, 0.        , 0.        , 0.        ,\n",
       "        0.        , 0.        , 0.        , 0.51831781, 0.55461229,\n",
       "        0.21451985, 0.        , 0.        , 0.        , 0.        ,\n",
       "        0.        ],\n",
       "       [0.        , 0.        , 0.32258065, 0.        , 0.        ,\n",
       "        0.        , 0.        , 0.        , 0.        , 0.01292612,\n",
       "        0.32998187, 0.52997088, 0.10599418, 0.        , 0.        ,\n",
       "        0.        ],\n",
       "       [0.        , 0.        , 0.        , 0.09090909, 0.        ,\n",
       "        0.        , 0.        , 0.        , 0.        , 0.        ,\n",
       "        0.        , 0.        , 0.23959112, 0.29948889, 0.        ,\n",
       "        0.        ],\n",
       "       [0.        , 0.        , 0.        , 0.        , 0.55555556,\n",
       "        0.        , 0.        , 0.        , 0.        , 0.        ,\n",
       "        0.        , 0.        , 0.        , 0.        , 0.90626588,\n",
       "        0.        ],\n",
       "       [0.        , 0.        , 0.        , 0.        , 0.        ,\n",
       "        1.        , 0.        , 0.        , 0.        , 0.        ,\n",
       "        0.        , 0.        , 0.        , 0.        , 0.        ,\n",
       "        1.80148996],\n",
       "       [0.02337927, 0.02138818, 0.02790429, 0.02064283, 0.01982367,\n",
       "        0.00763264, 0.        , 0.        , 0.        , 0.        ,\n",
       "        0.        , 0.        , 0.        , 0.        , 0.        ,\n",
       "        0.        ],\n",
       "       [0.        , 0.01782348, 0.00697607, 0.02064283, 0.00901076,\n",
       "        0.01144896, 0.        , 0.        , 0.        , 0.        ,\n",
       "        0.        , 0.        , 0.        , 0.        , 0.        ,\n",
       "        0.        ],\n",
       "       [0.10370498, 0.00632486, 0.00618885, 0.00523239, 0.01598785,\n",
       "        0.01692831, 0.        , 0.        , 0.        , 0.        ,\n",
       "        0.        , 0.        , 0.        , 0.        , 0.        ,\n",
       "        0.        ],\n",
       "       [0.01022592, 0.12473372, 0.01220513, 0.        , 0.00630598,\n",
       "        0.00667692, 0.        , 0.        , 0.        , 0.        ,\n",
       "        0.        , 0.        , 0.        , 0.        , 0.        ,\n",
       "        0.        ],\n",
       "       [0.04905421, 0.01196707, 0.11709714, 0.        , 0.01210004,\n",
       "        0.01281181, 0.        , 0.        , 0.        , 0.        ,\n",
       "        0.        , 0.        , 0.        , 0.        , 0.        ,\n",
       "        0.        ],\n",
       "       [0.        , 0.01164771, 0.        , 0.14935543, 0.01472141,\n",
       "        0.        , 0.        , 0.        , 0.        , 0.        ,\n",
       "        0.        , 0.        , 0.        , 0.        , 0.        ,\n",
       "        0.        ],\n",
       "       [0.00622676, 0.00189882, 0.01114791, 0.00314168, 0.03839837,\n",
       "        0.02032855, 0.        , 0.        , 0.        , 0.        ,\n",
       "        0.        , 0.        , 0.        , 0.        , 0.        ,\n",
       "        0.        ],\n",
       "       [0.        , 0.00822772, 0.00644062, 0.00544525, 0.03327654,\n",
       "        0.03523399, 0.        , 0.        , 0.        , 0.        ,\n",
       "        0.        , 0.        , 0.        , 0.        , 0.        ,\n",
       "        0.        ],\n",
       "       [0.01632911, 0.02489741, 0.00974479, 0.00411939, 0.15104431,\n",
       "        0.26654879, 0.        , 0.        , 0.        , 0.        ,\n",
       "        0.        , 0.        , 0.        , 0.        , 0.        ,\n",
       "        0.        ],\n",
       "       [0.25967423, 0.0098983 , 0.00968543, 0.        , 0.05004139,\n",
       "        0.42387999, 0.        , 0.        , 0.        , 0.        ,\n",
       "        0.        , 0.        , 0.        , 0.        , 0.        ,\n",
       "        0.        ]])"
      ]
     },
     "metadata": {},
     "output_type": "display_data"
    }
   ],
   "source": [
    "# the contribution of specific products to another product's impact is not\n",
    "# quantified in this analysis, but is most useful for LCI of specific goods\n",
    "disaggregated_tims = np.diag(dims) + np.dot(np.diag(tims),tech_coef)\n",
    "\n"
   ]
  },
  {
   "cell_type": "code",
   "execution_count": null,
   "metadata": {},
   "outputs": [],
   "source": [
    "# wait. Are you just computing the dot product in the transpose?\n",
    "# product_id = \n",
    "# print(product_id)\n",
    "a = np.atleast_2d(tech_coef[:num_industries,:])\n",
    "m_ip = disaggregated_tims[:,:num_industries]\n",
    "# this is actually the result we want in entirety,\n",
    "# with zeros in the LH block\n",
    "m_p = np.dot(m_ip,a)\n",
    "print(np.round(m_p[:,num_industries:],3)) # product block\n",
    "print(m_p[:,:num_industries]) # industry block"
   ]
  },
  {
   "cell_type": "code",
   "execution_count": null,
   "metadata": {},
   "outputs": [
    {
     "data": {
      "text/plain": [
       "array([[0.18018018, 0.18018018, 0.01589825, 0.        , 0.        ,\n",
       "        0.        , 0.        , 0.        , 0.        , 0.        ],\n",
       "       [0.        , 0.        , 0.30058177, 0.32162959, 0.1244039 ,\n",
       "        0.        , 0.        , 0.        , 0.        , 0.        ],\n",
       "       [0.        , 0.        , 0.        , 0.00786782, 0.2008521 ,\n",
       "        0.32258065, 0.06451613, 0.        , 0.        , 0.        ],\n",
       "       [0.        , 0.        , 0.        , 0.        , 0.        ,\n",
       "        0.        , 0.07272727, 0.09090909, 0.        , 0.        ],\n",
       "       [0.        , 0.        , 0.        , 0.        , 0.        ,\n",
       "        0.        , 0.        , 0.        , 0.55555556, 0.        ],\n",
       "       [0.        , 0.        , 0.        , 0.        , 0.        ,\n",
       "        0.        , 0.        , 0.        , 0.        , 1.        ],\n",
       "       [0.02337927, 0.02337927, 0.02156386, 0.02154711, 0.02544538,\n",
       "        0.02790429, 0.02209512, 0.02064283, 0.01982367, 0.00763264],\n",
       "       [0.        , 0.        , 0.01625082, 0.01755891, 0.01106943,\n",
       "        0.00697607, 0.01790948, 0.02064283, 0.00901076, 0.01144896],\n",
       "       [0.10370498, 0.10370498, 0.01491723, 0.00632155, 0.00624017,\n",
       "        0.00618885, 0.00542368, 0.00523239, 0.01598785, 0.01692831],\n",
       "       [0.01022592, 0.01022592, 0.11463009, 0.12198912, 0.05466875,\n",
       "        0.01220513, 0.00244103, 0.        , 0.00630598, 0.00667692],\n",
       "       [0.04905421, 0.04905421, 0.01523947, 0.01453122, 0.07742542,\n",
       "        0.11709714, 0.02341943, 0.        , 0.01210004, 0.01281181],\n",
       "       [0.        , 0.        , 0.01061997, 0.01136362, 0.00439536,\n",
       "        0.        , 0.11948434, 0.14935543, 0.01472141, 0.        ],\n",
       "       [0.00622676, 0.00622676, 0.0022807 , 0.00212441, 0.00765769,\n",
       "        0.01114791, 0.00474293, 0.00314168, 0.03839837, 0.02032855],\n",
       "       [0.        , 0.        , 0.00750174, 0.00818413, 0.007115  ,\n",
       "        0.00644062, 0.00564433, 0.00544525, 0.03327654, 0.03523399],\n",
       "       [0.01632911, 0.01632911, 0.02414139, 0.02452784, 0.01546276,\n",
       "        0.00974479, 0.00524447, 0.00411939, 0.15104431, 0.26654879],\n",
       "       [0.25967423, 0.25967423, 0.03193735, 0.0098931 , 0.00976576,\n",
       "        0.00968543, 0.00193709, 0.        , 0.05004139, 0.42387999]])"
      ]
     },
     "metadata": {},
     "output_type": "display_data"
    }
   ],
   "source": [
    "# # product 2: TIM = 0.57\n",
    "# def s_matrix(product_id):\n",
    "#     # pick the product column from the tech coef \n",
    "#     a = tech_coef[:num_industries,num_industries+product_id]\n",
    "#     # and just the respective column from the TIMs\n",
    "#     m_ip = disaggregated_tims[:,:num_industries]\n",
    "\n",
    "#     # then it's the broadcast multiplication \n",
    "#     s = a * m_ip\n",
    "#     return s\n",
    "\n",
    "# prod 0 and 1 are the same actually\n",
    "product_id = 2\n",
    "m_out = np.zeros((num_industries+num_products,num_products))\n",
    "for product_id in range(10):\n",
    "    a = tech_coef[:num_industries,num_industries+product_id]\n",
    "    m_ip = disaggregated_tims[:,:num_industries]\n",
    "    # then it's the broadcast multiplication \n",
    "    s_p = a * m_ip\n",
    "    # sum across the columns (i.e. compute row sums)\n",
    "    m_p_p = np.sum(s_p,axis=1)\n",
    "    m_out[:,product_id] = m_p_p\n",
    "# this is column number p\n",
    "m_out # correct"
   ]
  },
  {
   "cell_type": "code",
   "execution_count": null,
   "metadata": {},
   "outputs": [
    {
     "data": {
      "text/plain": [
       "True"
      ]
     },
     "metadata": {},
     "output_type": "display_data"
    }
   ],
   "source": [
    "# check equality\n",
    "np.all(np.isclose(m_out,m_p[:,num_industries:],np.zeros_like(m_out)))"
   ]
  }
 ],
 "metadata": {
  "language_info": {
   "name": "python"
  }
 },
 "nbformat": 4,
 "nbformat_minor": 2
}
