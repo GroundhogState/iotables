{
 "cells": [
  {
   "cell_type": "code",
   "execution_count": 50,
   "metadata": {},
   "outputs": [],
   "source": [
    "import pandas as pd\n",
    "import numpy as np\n",
    "import csv\n",
    "import os\n",
    "import xarray as xr\n",
    "import plotly.express as px\n",
    "# let's use the pyspa example for reference as we should be able to get some similar numbers\n",
    "\n",
    "# intialize the trees; in prototype, they'll be lists (tuples?) of sectors,\n",
    "# just pick one sector for initial construction\n",
    "from typing import Optional, Self\n",
    "from plotly import subplots\n",
    "\n",
    "import plotly.graph_objects as go\n",
    "\n",
    "# toy example\n",
    "import copy\n",
    "from warnings import warn\n",
    "import numpy.typing as npt\n"
   ]
  },
  {
   "cell_type": "code",
   "execution_count": null,
   "metadata": {},
   "outputs": [],
   "source": []
  },
  {
   "cell_type": "code",
   "execution_count": 111,
   "metadata": {},
   "outputs": [
    {
     "data": {
      "application/vnd.plotly.v1+json": {
       "config": {
        "plotlyServerURL": "https://plot.ly"
       },
       "data": [
        {
         "alignmentgroup": "True",
         "hovertemplate": "supplier=atoms<br>layer=%{x}<br>emissions=%{y}<extra></extra>",
         "legendgroup": "atoms",
         "marker": {
          "color": "#636efa",
          "pattern": {
           "shape": ""
          }
         },
         "name": "atoms",
         "offsetgroup": "atoms",
         "orientation": "v",
         "showlegend": false,
         "textposition": "auto",
         "type": "bar",
         "x": [
          0,
          1,
          2,
          3,
          4,
          5,
          6,
          7,
          8,
          9
         ],
         "xaxis": "x",
         "y": [
          0,
          0.0465909090909091,
          0.02161868384804988,
          0.010794050261795285,
          0.00524019869754929,
          0.0025498824963843983,
          0.0012394119494849763,
          0.0006023567433787437,
          0.0002926986577872905,
          0.00014221667156614497
         ],
         "yaxis": "y"
        },
        {
         "alignmentgroup": "True",
         "hovertemplate": "supplier=bits<br>layer=%{x}<br>emissions=%{y}<extra></extra>",
         "legendgroup": "bits",
         "marker": {
          "color": "#EF553B",
          "pattern": {
           "shape": ""
          }
         },
         "name": "bits",
         "offsetgroup": "bits",
         "orientation": "v",
         "showlegend": false,
         "textposition": "auto",
         "type": "bar",
         "x": [
          0,
          1,
          2,
          3,
          4,
          5,
          6,
          7,
          8,
          9
         ],
         "xaxis": "x",
         "y": [
          0.032,
          0.006119298245614035,
          0.003175923221130977,
          0.0014337969795459754,
          0.0006833603475752359,
          0.0003266677375795186,
          0.00015723034960413534,
          0.00007593185456866204,
          0.000036753176222575397,
          0.000017814245686574715
         ],
         "yaxis": "y"
        },
        {
         "alignmentgroup": "True",
         "hovertemplate": "supplier=cats<br>layer=%{x}<br>emissions=%{y}<extra></extra>",
         "legendgroup": "cats",
         "marker": {
          "color": "#00cc96",
          "pattern": {
           "shape": ""
          }
         },
         "name": "cats",
         "offsetgroup": "cats",
         "orientation": "v",
         "showlegend": false,
         "textposition": "auto",
         "type": "bar",
         "x": [
          0,
          1,
          2,
          3,
          4,
          5,
          6,
          7,
          8,
          9
         ],
         "xaxis": "x",
         "y": [
          0.013296398891966758,
          0.0078209121393259,
          0.0034945601899340605,
          0.0016725450392729034,
          0.0007997080508605547,
          0.00038510901320566146,
          0.0001860285339873444,
          0.00009005819579899999,
          0.00004365563108549702,
          0.000021179593644839075
         ],
         "yaxis": "y"
        },
        {
         "alignmentgroup": "True",
         "hovertemplate": "supplier=dogs<br>layer=%{x}<br>emissions=%{y}<extra></extra>",
         "legendgroup": "dogs",
         "marker": {
          "color": "#ab63fa",
          "pattern": {
           "shape": ""
          }
         },
         "name": "dogs",
         "offsetgroup": "dogs",
         "orientation": "v",
         "showlegend": false,
         "textposition": "auto",
         "type": "bar",
         "x": [
          0,
          1,
          2,
          3,
          4,
          5,
          6,
          7,
          8,
          9
         ],
         "xaxis": "x",
         "y": [
          0.0033057851239669425,
          0.0017240697536478314,
          0.0009339537340686166,
          0.0004768026876132721,
          0.000239040555301903,
          0.00011831733615596172,
          0.00005814240168255543,
          0.000028445464549358053,
          0.000013879147687743837,
          0.000006760716908403634
         ],
         "yaxis": "y"
        },
        {
         "alignmentgroup": "True",
         "hovertemplate": "supplier=atoms<br>layer=%{x}<br>emissions=%{y}<extra></extra>",
         "legendgroup": "atoms",
         "marker": {
          "color": "#636efa",
          "pattern": {
           "shape": ""
          }
         },
         "name": "atoms",
         "offsetgroup": "atoms",
         "orientation": "v",
         "showlegend": true,
         "textposition": "auto",
         "type": "bar",
         "x": [
          0,
          1,
          2,
          3,
          4,
          5,
          6,
          7,
          8,
          9
         ],
         "xaxis": "x2",
         "y": [
          0,
          0.0465909090909091,
          0.06820959293895898,
          0.07900364320075426,
          0.08424384189830354,
          0.08679372439468794,
          0.08803313634417291,
          0.08863549308755166,
          0.08892819174533895,
          0.0890704084169051
         ],
         "yaxis": "y2"
        },
        {
         "alignmentgroup": "True",
         "hovertemplate": "supplier=bits<br>layer=%{x}<br>emissions=%{y}<extra></extra>",
         "legendgroup": "bits",
         "marker": {
          "color": "#EF553B",
          "pattern": {
           "shape": ""
          }
         },
         "name": "bits",
         "offsetgroup": "bits",
         "orientation": "v",
         "showlegend": true,
         "textposition": "auto",
         "type": "bar",
         "x": [
          0,
          1,
          2,
          3,
          4,
          5,
          6,
          7,
          8,
          9
         ],
         "xaxis": "x2",
         "y": [
          0.032,
          0.03811929824561404,
          0.04129522146674502,
          0.04272901844629099,
          0.043412378793866224,
          0.043739046531445745,
          0.043896276881049884,
          0.043972208735618544,
          0.04400896191184112,
          0.044026776157527696
         ],
         "yaxis": "y2"
        },
        {
         "alignmentgroup": "True",
         "hovertemplate": "supplier=cats<br>layer=%{x}<br>emissions=%{y}<extra></extra>",
         "legendgroup": "cats",
         "marker": {
          "color": "#00cc96",
          "pattern": {
           "shape": ""
          }
         },
         "name": "cats",
         "offsetgroup": "cats",
         "orientation": "v",
         "showlegend": true,
         "textposition": "auto",
         "type": "bar",
         "x": [
          0,
          1,
          2,
          3,
          4,
          5,
          6,
          7,
          8,
          9
         ],
         "xaxis": "x2",
         "y": [
          0.013296398891966758,
          0.02111731103129266,
          0.024611871221226718,
          0.02628441626049962,
          0.027084124311360175,
          0.027469233324565835,
          0.02765526185855318,
          0.02774532005435218,
          0.027788975685437676,
          0.027810155279082514
         ],
         "yaxis": "y2"
        },
        {
         "alignmentgroup": "True",
         "hovertemplate": "supplier=dogs<br>layer=%{x}<br>emissions=%{y}<extra></extra>",
         "legendgroup": "dogs",
         "marker": {
          "color": "#ab63fa",
          "pattern": {
           "shape": ""
          }
         },
         "name": "dogs",
         "offsetgroup": "dogs",
         "orientation": "v",
         "showlegend": true,
         "textposition": "auto",
         "type": "bar",
         "x": [
          0,
          1,
          2,
          3,
          4,
          5,
          6,
          7,
          8,
          9
         ],
         "xaxis": "x2",
         "y": [
          0.0033057851239669425,
          0.005029854877614774,
          0.005963808611683391,
          0.006440611299296663,
          0.0066796518545985655,
          0.006797969190754527,
          0.006856111592437082,
          0.00688455705698644,
          0.006898436204674184,
          0.006905196921582588
         ],
         "yaxis": "y2"
        }
       ],
       "layout": {
        "barmode": "stack",
        "template": {
         "data": {
          "bar": [
           {
            "error_x": {
             "color": "#2a3f5f"
            },
            "error_y": {
             "color": "#2a3f5f"
            },
            "marker": {
             "line": {
              "color": "#E5ECF6",
              "width": 0.5
             },
             "pattern": {
              "fillmode": "overlay",
              "size": 10,
              "solidity": 0.2
             }
            },
            "type": "bar"
           }
          ],
          "barpolar": [
           {
            "marker": {
             "line": {
              "color": "#E5ECF6",
              "width": 0.5
             },
             "pattern": {
              "fillmode": "overlay",
              "size": 10,
              "solidity": 0.2
             }
            },
            "type": "barpolar"
           }
          ],
          "carpet": [
           {
            "aaxis": {
             "endlinecolor": "#2a3f5f",
             "gridcolor": "white",
             "linecolor": "white",
             "minorgridcolor": "white",
             "startlinecolor": "#2a3f5f"
            },
            "baxis": {
             "endlinecolor": "#2a3f5f",
             "gridcolor": "white",
             "linecolor": "white",
             "minorgridcolor": "white",
             "startlinecolor": "#2a3f5f"
            },
            "type": "carpet"
           }
          ],
          "choropleth": [
           {
            "colorbar": {
             "outlinewidth": 0,
             "ticks": ""
            },
            "type": "choropleth"
           }
          ],
          "contour": [
           {
            "colorbar": {
             "outlinewidth": 0,
             "ticks": ""
            },
            "colorscale": [
             [
              0,
              "#0d0887"
             ],
             [
              0.1111111111111111,
              "#46039f"
             ],
             [
              0.2222222222222222,
              "#7201a8"
             ],
             [
              0.3333333333333333,
              "#9c179e"
             ],
             [
              0.4444444444444444,
              "#bd3786"
             ],
             [
              0.5555555555555556,
              "#d8576b"
             ],
             [
              0.6666666666666666,
              "#ed7953"
             ],
             [
              0.7777777777777778,
              "#fb9f3a"
             ],
             [
              0.8888888888888888,
              "#fdca26"
             ],
             [
              1,
              "#f0f921"
             ]
            ],
            "type": "contour"
           }
          ],
          "contourcarpet": [
           {
            "colorbar": {
             "outlinewidth": 0,
             "ticks": ""
            },
            "type": "contourcarpet"
           }
          ],
          "heatmap": [
           {
            "colorbar": {
             "outlinewidth": 0,
             "ticks": ""
            },
            "colorscale": [
             [
              0,
              "#0d0887"
             ],
             [
              0.1111111111111111,
              "#46039f"
             ],
             [
              0.2222222222222222,
              "#7201a8"
             ],
             [
              0.3333333333333333,
              "#9c179e"
             ],
             [
              0.4444444444444444,
              "#bd3786"
             ],
             [
              0.5555555555555556,
              "#d8576b"
             ],
             [
              0.6666666666666666,
              "#ed7953"
             ],
             [
              0.7777777777777778,
              "#fb9f3a"
             ],
             [
              0.8888888888888888,
              "#fdca26"
             ],
             [
              1,
              "#f0f921"
             ]
            ],
            "type": "heatmap"
           }
          ],
          "heatmapgl": [
           {
            "colorbar": {
             "outlinewidth": 0,
             "ticks": ""
            },
            "colorscale": [
             [
              0,
              "#0d0887"
             ],
             [
              0.1111111111111111,
              "#46039f"
             ],
             [
              0.2222222222222222,
              "#7201a8"
             ],
             [
              0.3333333333333333,
              "#9c179e"
             ],
             [
              0.4444444444444444,
              "#bd3786"
             ],
             [
              0.5555555555555556,
              "#d8576b"
             ],
             [
              0.6666666666666666,
              "#ed7953"
             ],
             [
              0.7777777777777778,
              "#fb9f3a"
             ],
             [
              0.8888888888888888,
              "#fdca26"
             ],
             [
              1,
              "#f0f921"
             ]
            ],
            "type": "heatmapgl"
           }
          ],
          "histogram": [
           {
            "marker": {
             "pattern": {
              "fillmode": "overlay",
              "size": 10,
              "solidity": 0.2
             }
            },
            "type": "histogram"
           }
          ],
          "histogram2d": [
           {
            "colorbar": {
             "outlinewidth": 0,
             "ticks": ""
            },
            "colorscale": [
             [
              0,
              "#0d0887"
             ],
             [
              0.1111111111111111,
              "#46039f"
             ],
             [
              0.2222222222222222,
              "#7201a8"
             ],
             [
              0.3333333333333333,
              "#9c179e"
             ],
             [
              0.4444444444444444,
              "#bd3786"
             ],
             [
              0.5555555555555556,
              "#d8576b"
             ],
             [
              0.6666666666666666,
              "#ed7953"
             ],
             [
              0.7777777777777778,
              "#fb9f3a"
             ],
             [
              0.8888888888888888,
              "#fdca26"
             ],
             [
              1,
              "#f0f921"
             ]
            ],
            "type": "histogram2d"
           }
          ],
          "histogram2dcontour": [
           {
            "colorbar": {
             "outlinewidth": 0,
             "ticks": ""
            },
            "colorscale": [
             [
              0,
              "#0d0887"
             ],
             [
              0.1111111111111111,
              "#46039f"
             ],
             [
              0.2222222222222222,
              "#7201a8"
             ],
             [
              0.3333333333333333,
              "#9c179e"
             ],
             [
              0.4444444444444444,
              "#bd3786"
             ],
             [
              0.5555555555555556,
              "#d8576b"
             ],
             [
              0.6666666666666666,
              "#ed7953"
             ],
             [
              0.7777777777777778,
              "#fb9f3a"
             ],
             [
              0.8888888888888888,
              "#fdca26"
             ],
             [
              1,
              "#f0f921"
             ]
            ],
            "type": "histogram2dcontour"
           }
          ],
          "mesh3d": [
           {
            "colorbar": {
             "outlinewidth": 0,
             "ticks": ""
            },
            "type": "mesh3d"
           }
          ],
          "parcoords": [
           {
            "line": {
             "colorbar": {
              "outlinewidth": 0,
              "ticks": ""
             }
            },
            "type": "parcoords"
           }
          ],
          "pie": [
           {
            "automargin": true,
            "type": "pie"
           }
          ],
          "scatter": [
           {
            "fillpattern": {
             "fillmode": "overlay",
             "size": 10,
             "solidity": 0.2
            },
            "type": "scatter"
           }
          ],
          "scatter3d": [
           {
            "line": {
             "colorbar": {
              "outlinewidth": 0,
              "ticks": ""
             }
            },
            "marker": {
             "colorbar": {
              "outlinewidth": 0,
              "ticks": ""
             }
            },
            "type": "scatter3d"
           }
          ],
          "scattercarpet": [
           {
            "marker": {
             "colorbar": {
              "outlinewidth": 0,
              "ticks": ""
             }
            },
            "type": "scattercarpet"
           }
          ],
          "scattergeo": [
           {
            "marker": {
             "colorbar": {
              "outlinewidth": 0,
              "ticks": ""
             }
            },
            "type": "scattergeo"
           }
          ],
          "scattergl": [
           {
            "marker": {
             "colorbar": {
              "outlinewidth": 0,
              "ticks": ""
             }
            },
            "type": "scattergl"
           }
          ],
          "scattermapbox": [
           {
            "marker": {
             "colorbar": {
              "outlinewidth": 0,
              "ticks": ""
             }
            },
            "type": "scattermapbox"
           }
          ],
          "scatterpolar": [
           {
            "marker": {
             "colorbar": {
              "outlinewidth": 0,
              "ticks": ""
             }
            },
            "type": "scatterpolar"
           }
          ],
          "scatterpolargl": [
           {
            "marker": {
             "colorbar": {
              "outlinewidth": 0,
              "ticks": ""
             }
            },
            "type": "scatterpolargl"
           }
          ],
          "scatterternary": [
           {
            "marker": {
             "colorbar": {
              "outlinewidth": 0,
              "ticks": ""
             }
            },
            "type": "scatterternary"
           }
          ],
          "surface": [
           {
            "colorbar": {
             "outlinewidth": 0,
             "ticks": ""
            },
            "colorscale": [
             [
              0,
              "#0d0887"
             ],
             [
              0.1111111111111111,
              "#46039f"
             ],
             [
              0.2222222222222222,
              "#7201a8"
             ],
             [
              0.3333333333333333,
              "#9c179e"
             ],
             [
              0.4444444444444444,
              "#bd3786"
             ],
             [
              0.5555555555555556,
              "#d8576b"
             ],
             [
              0.6666666666666666,
              "#ed7953"
             ],
             [
              0.7777777777777778,
              "#fb9f3a"
             ],
             [
              0.8888888888888888,
              "#fdca26"
             ],
             [
              1,
              "#f0f921"
             ]
            ],
            "type": "surface"
           }
          ],
          "table": [
           {
            "cells": {
             "fill": {
              "color": "#EBF0F8"
             },
             "line": {
              "color": "white"
             }
            },
            "header": {
             "fill": {
              "color": "#C8D4E3"
             },
             "line": {
              "color": "white"
             }
            },
            "type": "table"
           }
          ]
         },
         "layout": {
          "annotationdefaults": {
           "arrowcolor": "#2a3f5f",
           "arrowhead": 0,
           "arrowwidth": 1
          },
          "autotypenumbers": "strict",
          "coloraxis": {
           "colorbar": {
            "outlinewidth": 0,
            "ticks": ""
           }
          },
          "colorscale": {
           "diverging": [
            [
             0,
             "#8e0152"
            ],
            [
             0.1,
             "#c51b7d"
            ],
            [
             0.2,
             "#de77ae"
            ],
            [
             0.3,
             "#f1b6da"
            ],
            [
             0.4,
             "#fde0ef"
            ],
            [
             0.5,
             "#f7f7f7"
            ],
            [
             0.6,
             "#e6f5d0"
            ],
            [
             0.7,
             "#b8e186"
            ],
            [
             0.8,
             "#7fbc41"
            ],
            [
             0.9,
             "#4d9221"
            ],
            [
             1,
             "#276419"
            ]
           ],
           "sequential": [
            [
             0,
             "#0d0887"
            ],
            [
             0.1111111111111111,
             "#46039f"
            ],
            [
             0.2222222222222222,
             "#7201a8"
            ],
            [
             0.3333333333333333,
             "#9c179e"
            ],
            [
             0.4444444444444444,
             "#bd3786"
            ],
            [
             0.5555555555555556,
             "#d8576b"
            ],
            [
             0.6666666666666666,
             "#ed7953"
            ],
            [
             0.7777777777777778,
             "#fb9f3a"
            ],
            [
             0.8888888888888888,
             "#fdca26"
            ],
            [
             1,
             "#f0f921"
            ]
           ],
           "sequentialminus": [
            [
             0,
             "#0d0887"
            ],
            [
             0.1111111111111111,
             "#46039f"
            ],
            [
             0.2222222222222222,
             "#7201a8"
            ],
            [
             0.3333333333333333,
             "#9c179e"
            ],
            [
             0.4444444444444444,
             "#bd3786"
            ],
            [
             0.5555555555555556,
             "#d8576b"
            ],
            [
             0.6666666666666666,
             "#ed7953"
            ],
            [
             0.7777777777777778,
             "#fb9f3a"
            ],
            [
             0.8888888888888888,
             "#fdca26"
            ],
            [
             1,
             "#f0f921"
            ]
           ]
          },
          "colorway": [
           "#636efa",
           "#EF553B",
           "#00cc96",
           "#ab63fa",
           "#FFA15A",
           "#19d3f3",
           "#FF6692",
           "#B6E880",
           "#FF97FF",
           "#FECB52"
          ],
          "font": {
           "color": "#2a3f5f"
          },
          "geo": {
           "bgcolor": "white",
           "lakecolor": "white",
           "landcolor": "#E5ECF6",
           "showlakes": true,
           "showland": true,
           "subunitcolor": "white"
          },
          "hoverlabel": {
           "align": "left"
          },
          "hovermode": "closest",
          "mapbox": {
           "style": "light"
          },
          "paper_bgcolor": "white",
          "plot_bgcolor": "#E5ECF6",
          "polar": {
           "angularaxis": {
            "gridcolor": "white",
            "linecolor": "white",
            "ticks": ""
           },
           "bgcolor": "#E5ECF6",
           "radialaxis": {
            "gridcolor": "white",
            "linecolor": "white",
            "ticks": ""
           }
          },
          "scene": {
           "xaxis": {
            "backgroundcolor": "#E5ECF6",
            "gridcolor": "white",
            "gridwidth": 2,
            "linecolor": "white",
            "showbackground": true,
            "ticks": "",
            "zerolinecolor": "white"
           },
           "yaxis": {
            "backgroundcolor": "#E5ECF6",
            "gridcolor": "white",
            "gridwidth": 2,
            "linecolor": "white",
            "showbackground": true,
            "ticks": "",
            "zerolinecolor": "white"
           },
           "zaxis": {
            "backgroundcolor": "#E5ECF6",
            "gridcolor": "white",
            "gridwidth": 2,
            "linecolor": "white",
            "showbackground": true,
            "ticks": "",
            "zerolinecolor": "white"
           }
          },
          "shapedefaults": {
           "line": {
            "color": "#2a3f5f"
           }
          },
          "ternary": {
           "aaxis": {
            "gridcolor": "white",
            "linecolor": "white",
            "ticks": ""
           },
           "baxis": {
            "gridcolor": "white",
            "linecolor": "white",
            "ticks": ""
           },
           "bgcolor": "#E5ECF6",
           "caxis": {
            "gridcolor": "white",
            "linecolor": "white",
            "ticks": ""
           }
          },
          "title": {
           "x": 0.05
          },
          "xaxis": {
           "automargin": true,
           "gridcolor": "white",
           "linecolor": "white",
           "ticks": "",
           "title": {
            "standoff": 15
           },
           "zerolinecolor": "white",
           "zerolinewidth": 2
          },
          "yaxis": {
           "automargin": true,
           "gridcolor": "white",
           "linecolor": "white",
           "ticks": "",
           "title": {
            "standoff": 15
           },
           "zerolinecolor": "white",
           "zerolinewidth": 2
          }
         }
        },
        "title": {
         "text": "Product layer decomposition for cats"
        },
        "width": 850,
        "xaxis": {
         "anchor": "y",
         "domain": [
          0,
          0.45
         ],
         "title": {
          "text": "Layer"
         }
        },
        "xaxis2": {
         "anchor": "y2",
         "domain": [
          0.55,
          1
         ],
         "title": {
          "text": "Layer"
         }
        },
        "yaxis": {
         "anchor": "x",
         "domain": [
          0,
          1
         ],
         "title": {
          "text": "Direct emissions"
         }
        },
        "yaxis2": {
         "anchor": "x2",
         "domain": [
          0,
          1
         ],
         "title": {
          "text": "Cumulative emissions"
         }
        }
       }
      },
      "text/html": [
       "<div>                            <div id=\"811925ea-4346-4558-8a8b-99e3588d7f65\" class=\"plotly-graph-div\" style=\"height:525px; width:850px;\"></div>            <script type=\"text/javascript\">                require([\"plotly\"], function(Plotly) {                    window.PLOTLYENV=window.PLOTLYENV || {};                                    if (document.getElementById(\"811925ea-4346-4558-8a8b-99e3588d7f65\")) {                    Plotly.newPlot(                        \"811925ea-4346-4558-8a8b-99e3588d7f65\",                        [{\"alignmentgroup\":\"True\",\"hovertemplate\":\"supplier=atoms\\u003cbr\\u003elayer=%{x}\\u003cbr\\u003eemissions=%{y}\\u003cextra\\u003e\\u003c\\u002fextra\\u003e\",\"legendgroup\":\"atoms\",\"marker\":{\"color\":\"#636efa\",\"pattern\":{\"shape\":\"\"}},\"name\":\"atoms\",\"offsetgroup\":\"atoms\",\"orientation\":\"v\",\"showlegend\":false,\"textposition\":\"auto\",\"x\":[0,1,2,3,4,5,6,7,8,9],\"xaxis\":\"x\",\"y\":[0.0,0.0465909090909091,0.02161868384804988,0.010794050261795285,0.00524019869754929,0.0025498824963843983,0.0012394119494849763,0.0006023567433787437,0.0002926986577872905,0.00014221667156614497],\"yaxis\":\"y\",\"type\":\"bar\"},{\"alignmentgroup\":\"True\",\"hovertemplate\":\"supplier=bits\\u003cbr\\u003elayer=%{x}\\u003cbr\\u003eemissions=%{y}\\u003cextra\\u003e\\u003c\\u002fextra\\u003e\",\"legendgroup\":\"bits\",\"marker\":{\"color\":\"#EF553B\",\"pattern\":{\"shape\":\"\"}},\"name\":\"bits\",\"offsetgroup\":\"bits\",\"orientation\":\"v\",\"showlegend\":false,\"textposition\":\"auto\",\"x\":[0,1,2,3,4,5,6,7,8,9],\"xaxis\":\"x\",\"y\":[0.032,0.006119298245614035,0.003175923221130977,0.0014337969795459754,0.0006833603475752359,0.0003266677375795186,0.00015723034960413534,7.593185456866204e-05,3.6753176222575397e-05,1.7814245686574715e-05],\"yaxis\":\"y\",\"type\":\"bar\"},{\"alignmentgroup\":\"True\",\"hovertemplate\":\"supplier=cats\\u003cbr\\u003elayer=%{x}\\u003cbr\\u003eemissions=%{y}\\u003cextra\\u003e\\u003c\\u002fextra\\u003e\",\"legendgroup\":\"cats\",\"marker\":{\"color\":\"#00cc96\",\"pattern\":{\"shape\":\"\"}},\"name\":\"cats\",\"offsetgroup\":\"cats\",\"orientation\":\"v\",\"showlegend\":false,\"textposition\":\"auto\",\"x\":[0,1,2,3,4,5,6,7,8,9],\"xaxis\":\"x\",\"y\":[0.013296398891966758,0.0078209121393259,0.0034945601899340605,0.0016725450392729034,0.0007997080508605547,0.00038510901320566146,0.0001860285339873444,9.005819579899999e-05,4.365563108549702e-05,2.1179593644839075e-05],\"yaxis\":\"y\",\"type\":\"bar\"},{\"alignmentgroup\":\"True\",\"hovertemplate\":\"supplier=dogs\\u003cbr\\u003elayer=%{x}\\u003cbr\\u003eemissions=%{y}\\u003cextra\\u003e\\u003c\\u002fextra\\u003e\",\"legendgroup\":\"dogs\",\"marker\":{\"color\":\"#ab63fa\",\"pattern\":{\"shape\":\"\"}},\"name\":\"dogs\",\"offsetgroup\":\"dogs\",\"orientation\":\"v\",\"showlegend\":false,\"textposition\":\"auto\",\"x\":[0,1,2,3,4,5,6,7,8,9],\"xaxis\":\"x\",\"y\":[0.0033057851239669425,0.0017240697536478314,0.0009339537340686166,0.0004768026876132721,0.000239040555301903,0.00011831733615596172,5.814240168255543e-05,2.8445464549358053e-05,1.3879147687743837e-05,6.760716908403634e-06],\"yaxis\":\"y\",\"type\":\"bar\"},{\"alignmentgroup\":\"True\",\"hovertemplate\":\"supplier=atoms\\u003cbr\\u003elayer=%{x}\\u003cbr\\u003eemissions=%{y}\\u003cextra\\u003e\\u003c\\u002fextra\\u003e\",\"legendgroup\":\"atoms\",\"marker\":{\"color\":\"#636efa\",\"pattern\":{\"shape\":\"\"}},\"name\":\"atoms\",\"offsetgroup\":\"atoms\",\"orientation\":\"v\",\"showlegend\":true,\"textposition\":\"auto\",\"x\":[0,1,2,3,4,5,6,7,8,9],\"xaxis\":\"x2\",\"y\":[0.0,0.0465909090909091,0.06820959293895898,0.07900364320075426,0.08424384189830354,0.08679372439468794,0.08803313634417291,0.08863549308755166,0.08892819174533895,0.0890704084169051],\"yaxis\":\"y2\",\"type\":\"bar\"},{\"alignmentgroup\":\"True\",\"hovertemplate\":\"supplier=bits\\u003cbr\\u003elayer=%{x}\\u003cbr\\u003eemissions=%{y}\\u003cextra\\u003e\\u003c\\u002fextra\\u003e\",\"legendgroup\":\"bits\",\"marker\":{\"color\":\"#EF553B\",\"pattern\":{\"shape\":\"\"}},\"name\":\"bits\",\"offsetgroup\":\"bits\",\"orientation\":\"v\",\"showlegend\":true,\"textposition\":\"auto\",\"x\":[0,1,2,3,4,5,6,7,8,9],\"xaxis\":\"x2\",\"y\":[0.032,0.03811929824561404,0.04129522146674502,0.04272901844629099,0.043412378793866224,0.043739046531445745,0.043896276881049884,0.043972208735618544,0.04400896191184112,0.044026776157527696],\"yaxis\":\"y2\",\"type\":\"bar\"},{\"alignmentgroup\":\"True\",\"hovertemplate\":\"supplier=cats\\u003cbr\\u003elayer=%{x}\\u003cbr\\u003eemissions=%{y}\\u003cextra\\u003e\\u003c\\u002fextra\\u003e\",\"legendgroup\":\"cats\",\"marker\":{\"color\":\"#00cc96\",\"pattern\":{\"shape\":\"\"}},\"name\":\"cats\",\"offsetgroup\":\"cats\",\"orientation\":\"v\",\"showlegend\":true,\"textposition\":\"auto\",\"x\":[0,1,2,3,4,5,6,7,8,9],\"xaxis\":\"x2\",\"y\":[0.013296398891966758,0.02111731103129266,0.024611871221226718,0.02628441626049962,0.027084124311360175,0.027469233324565835,0.02765526185855318,0.02774532005435218,0.027788975685437676,0.027810155279082514],\"yaxis\":\"y2\",\"type\":\"bar\"},{\"alignmentgroup\":\"True\",\"hovertemplate\":\"supplier=dogs\\u003cbr\\u003elayer=%{x}\\u003cbr\\u003eemissions=%{y}\\u003cextra\\u003e\\u003c\\u002fextra\\u003e\",\"legendgroup\":\"dogs\",\"marker\":{\"color\":\"#ab63fa\",\"pattern\":{\"shape\":\"\"}},\"name\":\"dogs\",\"offsetgroup\":\"dogs\",\"orientation\":\"v\",\"showlegend\":true,\"textposition\":\"auto\",\"x\":[0,1,2,3,4,5,6,7,8,9],\"xaxis\":\"x2\",\"y\":[0.0033057851239669425,0.005029854877614774,0.005963808611683391,0.006440611299296663,0.0066796518545985655,0.006797969190754527,0.006856111592437082,0.00688455705698644,0.006898436204674184,0.006905196921582588],\"yaxis\":\"y2\",\"type\":\"bar\"}],                        {\"template\":{\"data\":{\"histogram2dcontour\":[{\"type\":\"histogram2dcontour\",\"colorbar\":{\"outlinewidth\":0,\"ticks\":\"\"},\"colorscale\":[[0.0,\"#0d0887\"],[0.1111111111111111,\"#46039f\"],[0.2222222222222222,\"#7201a8\"],[0.3333333333333333,\"#9c179e\"],[0.4444444444444444,\"#bd3786\"],[0.5555555555555556,\"#d8576b\"],[0.6666666666666666,\"#ed7953\"],[0.7777777777777778,\"#fb9f3a\"],[0.8888888888888888,\"#fdca26\"],[1.0,\"#f0f921\"]]}],\"choropleth\":[{\"type\":\"choropleth\",\"colorbar\":{\"outlinewidth\":0,\"ticks\":\"\"}}],\"histogram2d\":[{\"type\":\"histogram2d\",\"colorbar\":{\"outlinewidth\":0,\"ticks\":\"\"},\"colorscale\":[[0.0,\"#0d0887\"],[0.1111111111111111,\"#46039f\"],[0.2222222222222222,\"#7201a8\"],[0.3333333333333333,\"#9c179e\"],[0.4444444444444444,\"#bd3786\"],[0.5555555555555556,\"#d8576b\"],[0.6666666666666666,\"#ed7953\"],[0.7777777777777778,\"#fb9f3a\"],[0.8888888888888888,\"#fdca26\"],[1.0,\"#f0f921\"]]}],\"heatmap\":[{\"type\":\"heatmap\",\"colorbar\":{\"outlinewidth\":0,\"ticks\":\"\"},\"colorscale\":[[0.0,\"#0d0887\"],[0.1111111111111111,\"#46039f\"],[0.2222222222222222,\"#7201a8\"],[0.3333333333333333,\"#9c179e\"],[0.4444444444444444,\"#bd3786\"],[0.5555555555555556,\"#d8576b\"],[0.6666666666666666,\"#ed7953\"],[0.7777777777777778,\"#fb9f3a\"],[0.8888888888888888,\"#fdca26\"],[1.0,\"#f0f921\"]]}],\"heatmapgl\":[{\"type\":\"heatmapgl\",\"colorbar\":{\"outlinewidth\":0,\"ticks\":\"\"},\"colorscale\":[[0.0,\"#0d0887\"],[0.1111111111111111,\"#46039f\"],[0.2222222222222222,\"#7201a8\"],[0.3333333333333333,\"#9c179e\"],[0.4444444444444444,\"#bd3786\"],[0.5555555555555556,\"#d8576b\"],[0.6666666666666666,\"#ed7953\"],[0.7777777777777778,\"#fb9f3a\"],[0.8888888888888888,\"#fdca26\"],[1.0,\"#f0f921\"]]}],\"contourcarpet\":[{\"type\":\"contourcarpet\",\"colorbar\":{\"outlinewidth\":0,\"ticks\":\"\"}}],\"contour\":[{\"type\":\"contour\",\"colorbar\":{\"outlinewidth\":0,\"ticks\":\"\"},\"colorscale\":[[0.0,\"#0d0887\"],[0.1111111111111111,\"#46039f\"],[0.2222222222222222,\"#7201a8\"],[0.3333333333333333,\"#9c179e\"],[0.4444444444444444,\"#bd3786\"],[0.5555555555555556,\"#d8576b\"],[0.6666666666666666,\"#ed7953\"],[0.7777777777777778,\"#fb9f3a\"],[0.8888888888888888,\"#fdca26\"],[1.0,\"#f0f921\"]]}],\"surface\":[{\"type\":\"surface\",\"colorbar\":{\"outlinewidth\":0,\"ticks\":\"\"},\"colorscale\":[[0.0,\"#0d0887\"],[0.1111111111111111,\"#46039f\"],[0.2222222222222222,\"#7201a8\"],[0.3333333333333333,\"#9c179e\"],[0.4444444444444444,\"#bd3786\"],[0.5555555555555556,\"#d8576b\"],[0.6666666666666666,\"#ed7953\"],[0.7777777777777778,\"#fb9f3a\"],[0.8888888888888888,\"#fdca26\"],[1.0,\"#f0f921\"]]}],\"mesh3d\":[{\"type\":\"mesh3d\",\"colorbar\":{\"outlinewidth\":0,\"ticks\":\"\"}}],\"scatter\":[{\"fillpattern\":{\"fillmode\":\"overlay\",\"size\":10,\"solidity\":0.2},\"type\":\"scatter\"}],\"parcoords\":[{\"type\":\"parcoords\",\"line\":{\"colorbar\":{\"outlinewidth\":0,\"ticks\":\"\"}}}],\"scatterpolargl\":[{\"type\":\"scatterpolargl\",\"marker\":{\"colorbar\":{\"outlinewidth\":0,\"ticks\":\"\"}}}],\"bar\":[{\"error_x\":{\"color\":\"#2a3f5f\"},\"error_y\":{\"color\":\"#2a3f5f\"},\"marker\":{\"line\":{\"color\":\"#E5ECF6\",\"width\":0.5},\"pattern\":{\"fillmode\":\"overlay\",\"size\":10,\"solidity\":0.2}},\"type\":\"bar\"}],\"scattergeo\":[{\"type\":\"scattergeo\",\"marker\":{\"colorbar\":{\"outlinewidth\":0,\"ticks\":\"\"}}}],\"scatterpolar\":[{\"type\":\"scatterpolar\",\"marker\":{\"colorbar\":{\"outlinewidth\":0,\"ticks\":\"\"}}}],\"histogram\":[{\"marker\":{\"pattern\":{\"fillmode\":\"overlay\",\"size\":10,\"solidity\":0.2}},\"type\":\"histogram\"}],\"scattergl\":[{\"type\":\"scattergl\",\"marker\":{\"colorbar\":{\"outlinewidth\":0,\"ticks\":\"\"}}}],\"scatter3d\":[{\"type\":\"scatter3d\",\"line\":{\"colorbar\":{\"outlinewidth\":0,\"ticks\":\"\"}},\"marker\":{\"colorbar\":{\"outlinewidth\":0,\"ticks\":\"\"}}}],\"scattermapbox\":[{\"type\":\"scattermapbox\",\"marker\":{\"colorbar\":{\"outlinewidth\":0,\"ticks\":\"\"}}}],\"scatterternary\":[{\"type\":\"scatterternary\",\"marker\":{\"colorbar\":{\"outlinewidth\":0,\"ticks\":\"\"}}}],\"scattercarpet\":[{\"type\":\"scattercarpet\",\"marker\":{\"colorbar\":{\"outlinewidth\":0,\"ticks\":\"\"}}}],\"carpet\":[{\"aaxis\":{\"endlinecolor\":\"#2a3f5f\",\"gridcolor\":\"white\",\"linecolor\":\"white\",\"minorgridcolor\":\"white\",\"startlinecolor\":\"#2a3f5f\"},\"baxis\":{\"endlinecolor\":\"#2a3f5f\",\"gridcolor\":\"white\",\"linecolor\":\"white\",\"minorgridcolor\":\"white\",\"startlinecolor\":\"#2a3f5f\"},\"type\":\"carpet\"}],\"table\":[{\"cells\":{\"fill\":{\"color\":\"#EBF0F8\"},\"line\":{\"color\":\"white\"}},\"header\":{\"fill\":{\"color\":\"#C8D4E3\"},\"line\":{\"color\":\"white\"}},\"type\":\"table\"}],\"barpolar\":[{\"marker\":{\"line\":{\"color\":\"#E5ECF6\",\"width\":0.5},\"pattern\":{\"fillmode\":\"overlay\",\"size\":10,\"solidity\":0.2}},\"type\":\"barpolar\"}],\"pie\":[{\"automargin\":true,\"type\":\"pie\"}]},\"layout\":{\"autotypenumbers\":\"strict\",\"colorway\":[\"#636efa\",\"#EF553B\",\"#00cc96\",\"#ab63fa\",\"#FFA15A\",\"#19d3f3\",\"#FF6692\",\"#B6E880\",\"#FF97FF\",\"#FECB52\"],\"font\":{\"color\":\"#2a3f5f\"},\"hovermode\":\"closest\",\"hoverlabel\":{\"align\":\"left\"},\"paper_bgcolor\":\"white\",\"plot_bgcolor\":\"#E5ECF6\",\"polar\":{\"bgcolor\":\"#E5ECF6\",\"angularaxis\":{\"gridcolor\":\"white\",\"linecolor\":\"white\",\"ticks\":\"\"},\"radialaxis\":{\"gridcolor\":\"white\",\"linecolor\":\"white\",\"ticks\":\"\"}},\"ternary\":{\"bgcolor\":\"#E5ECF6\",\"aaxis\":{\"gridcolor\":\"white\",\"linecolor\":\"white\",\"ticks\":\"\"},\"baxis\":{\"gridcolor\":\"white\",\"linecolor\":\"white\",\"ticks\":\"\"},\"caxis\":{\"gridcolor\":\"white\",\"linecolor\":\"white\",\"ticks\":\"\"}},\"coloraxis\":{\"colorbar\":{\"outlinewidth\":0,\"ticks\":\"\"}},\"colorscale\":{\"sequential\":[[0.0,\"#0d0887\"],[0.1111111111111111,\"#46039f\"],[0.2222222222222222,\"#7201a8\"],[0.3333333333333333,\"#9c179e\"],[0.4444444444444444,\"#bd3786\"],[0.5555555555555556,\"#d8576b\"],[0.6666666666666666,\"#ed7953\"],[0.7777777777777778,\"#fb9f3a\"],[0.8888888888888888,\"#fdca26\"],[1.0,\"#f0f921\"]],\"sequentialminus\":[[0.0,\"#0d0887\"],[0.1111111111111111,\"#46039f\"],[0.2222222222222222,\"#7201a8\"],[0.3333333333333333,\"#9c179e\"],[0.4444444444444444,\"#bd3786\"],[0.5555555555555556,\"#d8576b\"],[0.6666666666666666,\"#ed7953\"],[0.7777777777777778,\"#fb9f3a\"],[0.8888888888888888,\"#fdca26\"],[1.0,\"#f0f921\"]],\"diverging\":[[0,\"#8e0152\"],[0.1,\"#c51b7d\"],[0.2,\"#de77ae\"],[0.3,\"#f1b6da\"],[0.4,\"#fde0ef\"],[0.5,\"#f7f7f7\"],[0.6,\"#e6f5d0\"],[0.7,\"#b8e186\"],[0.8,\"#7fbc41\"],[0.9,\"#4d9221\"],[1,\"#276419\"]]},\"xaxis\":{\"gridcolor\":\"white\",\"linecolor\":\"white\",\"ticks\":\"\",\"title\":{\"standoff\":15},\"zerolinecolor\":\"white\",\"automargin\":true,\"zerolinewidth\":2},\"yaxis\":{\"gridcolor\":\"white\",\"linecolor\":\"white\",\"ticks\":\"\",\"title\":{\"standoff\":15},\"zerolinecolor\":\"white\",\"automargin\":true,\"zerolinewidth\":2},\"scene\":{\"xaxis\":{\"backgroundcolor\":\"#E5ECF6\",\"gridcolor\":\"white\",\"linecolor\":\"white\",\"showbackground\":true,\"ticks\":\"\",\"zerolinecolor\":\"white\",\"gridwidth\":2},\"yaxis\":{\"backgroundcolor\":\"#E5ECF6\",\"gridcolor\":\"white\",\"linecolor\":\"white\",\"showbackground\":true,\"ticks\":\"\",\"zerolinecolor\":\"white\",\"gridwidth\":2},\"zaxis\":{\"backgroundcolor\":\"#E5ECF6\",\"gridcolor\":\"white\",\"linecolor\":\"white\",\"showbackground\":true,\"ticks\":\"\",\"zerolinecolor\":\"white\",\"gridwidth\":2}},\"shapedefaults\":{\"line\":{\"color\":\"#2a3f5f\"}},\"annotationdefaults\":{\"arrowcolor\":\"#2a3f5f\",\"arrowhead\":0,\"arrowwidth\":1},\"geo\":{\"bgcolor\":\"white\",\"landcolor\":\"#E5ECF6\",\"subunitcolor\":\"white\",\"showland\":true,\"showlakes\":true,\"lakecolor\":\"white\"},\"title\":{\"x\":0.05},\"mapbox\":{\"style\":\"light\"}}},\"xaxis\":{\"anchor\":\"y\",\"domain\":[0.0,0.45],\"title\":{\"text\":\"Layer\"}},\"yaxis\":{\"anchor\":\"x\",\"domain\":[0.0,1.0],\"title\":{\"text\":\"Direct emissions\"}},\"xaxis2\":{\"anchor\":\"y2\",\"domain\":[0.55,1.0],\"title\":{\"text\":\"Layer\"}},\"yaxis2\":{\"anchor\":\"x2\",\"domain\":[0.0,1.0],\"title\":{\"text\":\"Cumulative emissions\"}},\"barmode\":\"stack\",\"width\":850,\"title\":{\"text\":\"Product layer decomposition for cats\"}},                        {\"responsive\": true}                    ).then(function(){\n",
       "                            \n",
       "var gd = document.getElementById('811925ea-4346-4558-8a8b-99e3588d7f65');\n",
       "var x = new MutationObserver(function (mutations, observer) {{\n",
       "        var display = window.getComputedStyle(gd).display;\n",
       "        if (!display || display === 'none') {{\n",
       "            console.log([gd, 'removed!']);\n",
       "            Plotly.purge(gd);\n",
       "            observer.disconnect();\n",
       "        }}\n",
       "}});\n",
       "\n",
       "// Listen for the removal of the full notebook cells\n",
       "var notebookContainer = gd.closest('#notebook-container');\n",
       "if (notebookContainer) {{\n",
       "    x.observe(notebookContainer, {childList: true});\n",
       "}}\n",
       "\n",
       "// Listen for the clearing of the current output cell\n",
       "var outputEl = gd.closest('.output');\n",
       "if (outputEl) {{\n",
       "    x.observe(outputEl, {childList: true});\n",
       "}}\n",
       "\n",
       "                        })                };                });            </script>        </div>"
      ]
     },
     "metadata": {},
     "output_type": "display_data"
    }
   ],
   "source": [
    "\n",
    "\n",
    "def create_chain(transaction_table:npt.NDArray,final_demand:npt.NDArray,\n",
    "                 direct_data:npt.NDArray,total_data:npt.NDArray,\n",
    "                 sector_list:list[str],max_layers:int,\n",
    "                 from_A:bool=False)->xr.Dataset:\n",
    "    \"\"\"Create a structure to house the data\"\"\"\n",
    "    \n",
    "\n",
    "    # todo coerce functions for column_vector, row_vector\n",
    "    \n",
    "    extended_table = np.concatenate([transaction_table,np.atleast_2d(final_demand).T],axis=1)\n",
    "    output = np.sum(extended_table,axis=1)\n",
    "    tech_coef = transaction_table/np.atleast_2d(output).T\n",
    "    \n",
    "    supply_chain_data = np.zeros((*tech_coef.shape,max_layers))\n",
    "    layer_transfer = np.eye(tech_coef.shape[0])\n",
    "    for layer in range(max_layers):\n",
    "        # create the next level of dependency\n",
    "        supply_chain_data[:,:,layer] = np.dot(layer_transfer,tech_coef)\n",
    "        layer_transfer = copy.copy(supply_chain_data[:,:,layer])\n",
    "\n",
    "    chain = xr.Dataset(data_vars={'transfer':(['supplier','user','layer'],\n",
    "                                        supply_chain_data),\n",
    "                                        'direct_intensity':(['supplier'],direct_data),\n",
    "                                        'total_intensity':(['supplier'],total_data),\n",
    "                                        'final_demand':(['supplier'],final_demand),\n",
    "                                        'output':(['supplier'],output)}, \n",
    "                            coords={'supplier':sector_list,\n",
    "                                    'user':sector_list,\n",
    "                                    'layer':range(max_layers)})\n",
    "    \n",
    "    \n",
    "    \n",
    "    # construct other useful objects for downstream use\n",
    "    direct = chain.output*chain.direct_intensity\n",
    "    direct.name = 'absolute_direct'\n",
    "    chain=chain.merge(direct)\n",
    "    \n",
    "    total = chain.output*chain.total_intensity\n",
    "    total.name = 'absolute_total'\n",
    "    chain=chain.merge(total)\n",
    "    \n",
    "    \n",
    "    return chain\n",
    "\n",
    "\n",
    "\n",
    "transaction_table = np.array([[0.5,.5,0,0.4],\n",
    "                  [0,0.1,0.9,0],\n",
    "                  [0.3,0.4,0.3,0.1],\n",
    "                  [0,0,0.2,0.8],\n",
    "                  ])\n",
    "\n",
    "sector_list = ['atoms','bits','cats','dogs']\n",
    "direct_data = [1.8,0.4,0.2,0.1]\n",
    "total_data = [2.4,0.8,0.6,0.5]\n",
    "final_demand = [1,2,0.8,1.2]\n",
    "# might not be legit numbers but just checking math\n",
    "\n",
    "max_layers = 10\n",
    "\n",
    "\n",
    "toy_chain = create_chain(transaction_table,final_demand,direct_data,total_data,sector_list,max_layers)\n"
   ]
  },
  {
   "cell_type": "code",
   "execution_count": 143,
   "metadata": {},
   "outputs": [
    {
     "name": "stdout",
     "output_type": "stream",
     "text": [
      "['root', [['ch1'], ['ch2', [['ch3', [['ch4']]], ['ch4']]]]]\n"
     ]
    }
   ],
   "source": [
    "# objects to construct a 'supply chain'\n",
    "from uuid import uuid4\n",
    "\n",
    "# class Process:\n",
    "#     def __init__(self):\n",
    "#         self.total_intensity = 0\n",
    "#         self.direct_intensity = 0\n",
    "#         self.tech_coef = 0\n",
    "#         self.reliance = 0\n",
    "\n",
    "class Process:\n",
    "    def __init__(self,name):\n",
    "        self.name = name\n",
    "        self.id = uuid4()\n",
    "\n",
    "class Node:\n",
    "    def __init__(self,process_name:str,\n",
    "                 children:Optional[list[Self]] = None):\n",
    "        self.process_name = process_name\n",
    "        self.children = children\n",
    "        # values obtained from the SPA\n",
    "        self.id = uuid4()\n",
    "        # self.data = xr.Dataset # probably overkill, could just use an array tbh\n",
    "        \n",
    "        \n",
    "    @property\n",
    "    def terminal(self):\n",
    "        return self.children is None\n",
    "    \n",
    "    def child_names(self):\n",
    "        return \" \".join([s.process for s in self.children])\n",
    "\n",
    "    # def mass(self):\n",
    "    #     if self.terminal:\n",
    "    #         return 1\n",
    "    #     else:\n",
    "    #         return np.sum([c.mass() for c in self.children])+1\n",
    "    def expand_name(self):\n",
    "        if self.children is None:\n",
    "            return [self.process_name]\n",
    "        else:\n",
    "            return [self.process_name,[x.expand_name() for x in self.children]]\n",
    "\n",
    "    def add_child(self,new_node:Self):\n",
    "        if self.children is None:\n",
    "            self.children = [new_node]\n",
    "        else:\n",
    "            # can probably just append the ID\n",
    "            self.children.append(new_node)\n",
    "            # ensure this reference doesn't create circularity issues\n",
    "            # new_node.add_parent(self.id)\n",
    "            \n",
    "    \n",
    "root = Node(process_name='root')\n",
    "ch1 = Node(process_name='ch1')\n",
    "ch2 = Node(process_name='ch2')\n",
    "ch3 = Node(process_name='ch3')\n",
    "ch4= Node(process_name='ch4')\n",
    "\n",
    "root.children = [ch1,ch2]\n",
    "ch2.children = [ch3,ch4]\n",
    "ch3.children = [ch4]\n",
    "\n",
    "# assert root.mass() == 5\n",
    "# assert not root.terminal \n",
    "# assert ch1.mass() == 1\n",
    "# assert ch1.terminal \n",
    "# assert ch2.mass() == 3\n",
    "# assert not ch2.terminal \n",
    "# assert ch3.mass() == 1\n",
    "# assert ch3.terminal \n",
    "\n",
    "# expect paths:\n",
    "# root, ch1\n",
    "# root, ch2, ch3, ch4\n",
    "# root, ch2, ch4\n",
    "\n",
    "\n",
    "print(root.expand_name())"
   ]
  },
  {
   "cell_type": "code",
   "execution_count": 156,
   "metadata": {},
   "outputs": [],
   "source": [
    "from uuid import UUID\n",
    "\n",
    "\n",
    "\n",
    "def find_links(weight_matrix,node_names,cutoff):\n",
    "    new_nodes = []\n",
    "    new_links = []\n",
    "    \n",
    "    for node in node_names:\n",
    "        incoming_weights = weight_matrix.sel(user=node)    \n",
    "        mask = (incoming_weights>cutoff)\n",
    "        relevant_suppliers=incoming_weights.supplier[mask].data\n",
    "        # node.children = \n",
    "        new_nodes.extend([Node(process_name=s) for s in relevant_suppliers])\n",
    "        for _new in new_nodes:\n",
    "            new_links.append((node.id,_new.id))\n",
    "        # just the unique nodes\n",
    "        # \n",
    "    return new_nodes, new_links\n",
    "\n",
    "# still have a non-uniqueness issue but should be easier to remedy\n",
    "\n",
    "transaction_table = np.array([[0.5,.5,0,0.4],\n",
    "                  [0,0.1,0.9,0],\n",
    "                  [0.3,0.4,0.3,0.1],\n",
    "                  [0,0,0.2,0.8],\n",
    "                  ])\n",
    "\n",
    "sector_list = ['atoms','bits','cats','dogs']\n",
    "direct_data = [1.8,0.4,0.2,0.1]\n",
    "total_data = [2.4,0.8,0.6,0.5]\n",
    "final_demand = [1,2,0.8,1.2]\n",
    "# might not be legit numbers but just checking math\n",
    "\n",
    "max_layers = 10\n",
    "\n",
    "\n",
    "toy_chain = create_chain(transaction_table,final_demand,direct_data,total_data,sector_list,max_layers)\n",
    "\n",
    "# apparently need a new class: Stage\n",
    "# these are 1-1 with processes (just call it Process then) and populate a dict: {id:Process_instance} and {procname:instance}\n",
    "# these are the nodes the graph cares about and get fed into the find_links function as the branch ends\n",
    "# they are obtained from the new nodes list by finding the unique process names\n",
    "\n",
    "\n",
    "root = Node(process_name='atoms')\n",
    "layers = [[root]]\n",
    "num_layers = 3\n",
    "cutoff = 0.01\n",
    "supply_chain = toy_chain\n",
    "nodes = {root.id:root}\n",
    "\n",
    "process_dict = {}\n",
    "process_lookup = {}\n",
    "for entity in supply_chain.user:\n",
    "    name = entity.item()\n",
    "    _p = Process(name=name)\n",
    "    # will overwrite this so apply copies\n",
    "    # _p_keep = copy(_p_temp)\n",
    "    process_dict.update({_p.id:_p})\n",
    "    process_lookup.update({name:_p})\n"
   ]
  },
  {
   "cell_type": "code",
   "execution_count": 180,
   "metadata": {},
   "outputs": [
    {
     "data": {
      "text/plain": [
       "array([[ 538.57581053, 1261.57210621,  232.29826143,  566.71243022],\n",
       "       [ 388.34090944, 1966.45661443,  476.22106697,  525.30436053],\n",
       "       [ 249.98350383,  275.18855398, 1509.02012655,  188.27399099],\n",
       "       [  80.98572902,   74.26217295,  332.15967248,  272.84745669]])"
      ]
     },
     "execution_count": 180,
     "metadata": {},
     "output_type": "execute_result"
    }
   ],
   "source": [
    "# the oversampling issue with naive n-ary tree edge formation is a degeneracy\n",
    "# it can be remedied by considering the hypergraph A(user,supplier,trophic_no) I think\n",
    "# can do monte carlo experiments to look at surfacve area / volume ratio of the graphs with\n",
    "# lognormally distributed terms. Spectral properties of these matrices? \n",
    "# Can we find a form for the distributions of the power series\n",
    "# -> compute matrix norm and truncation information loss\n",
    "# or simulate\n",
    "\n",
    "# a_random = np.exp(\n",
    "\n",
    "\n",
    "\n"
   ]
  },
  {
   "cell_type": "code",
   "execution_count": 207,
   "metadata": {},
   "outputs": [
    {
     "name": "stdout",
     "output_type": "stream",
     "text": [
      "-5.936336344678103\n",
      "-6.462363974132204\n",
      "33.46431385624446\n",
      "1133.433193755369\n",
      "1284772.5213274737\n",
      "1650640440042.7996\n",
      "2.7246138623046865e+24\n",
      "7.423520698662862e+48\n",
      "5.5108659563475944e+97\n",
      "3.0369643588830887e+195\n",
      "inf\n",
      "inf\n",
      "inf\n",
      "inf\n",
      "inf\n",
      "inf\n",
      "inf\n",
      "inf\n",
      "inf\n",
      "inf\n"
     ]
    },
    {
     "data": {
      "application/vnd.plotly.v1+json": {
       "config": {
        "plotlyServerURL": "https://plot.ly"
       },
       "data": [
        {
         "hovertemplate": "x=%{x}<br>y=%{y}<extra></extra>",
         "legendgroup": "",
         "line": {
          "color": "#636efa",
          "dash": "solid"
         },
         "marker": {
          "symbol": "circle"
         },
         "mode": "lines",
         "name": "",
         "orientation": "v",
         "showlegend": false,
         "type": "scatter",
         "x": [
          0,
          1,
          2,
          3,
          4,
          5,
          6,
          7,
          8,
          9,
          10,
          11,
          12,
          13,
          14,
          15,
          16,
          17,
          18,
          19,
          20
         ],
         "xaxis": "x",
         "y": [
          1.088611493505701,
          [
           [
            -0.8505460285448792,
            -1.0328684816628169,
            -0.9781657444982894,
            -1.0253899014194685
           ],
           [
            -0.8254115172013975,
            -1.4599677386696528,
            -1.8043253747100245,
            -1.91180372875695
           ],
           [
            -1.9504743110470897,
            -2.6362872515494034,
            -2.7736994670436923,
            -2.7074122084855605
           ],
           [
            -0.9924692183830705,
            0.485273482110198,
            -1.071601401341399,
            -1.3781507398739792
           ]
          ],
          [
           [
            4.501525157782114,
            4.467588200744622,
            6.507552858921824,
            6.90822285279844
           ],
           [
            7.32382131863483,
            6.813019668904981,
            10.4949939934127,
            11.157346671757557
           ],
           [
            11.932042874550179,
            11.861910971978965,
            17.259282589685704,
            18.280830397124546
           ],
           [
            3.901493623637817,
            2.472875651063045,
            4.544336634338545,
            4.890486439871663
           ]
          ],
          [
           [
            157.58433358555914,
            144.8239157072838,
            219.89020818948532,
            233.69200960929396
           ],
           [
            251.62273980646603,
            231.21847003275502,
            351.001561194322,
            373.03186994627725
           ],
           [
            417.8479507131434,
            384.05718060935266,
            583.096166912783,
            619.6928351352525
           ],
           [
            108.97699233028372,
            100.2760987499324,
            151.99799793208757,
            161.53422322427204
           ]
          ],
          [
           [
            178621.53786407574,
            164192.08089148338,
            249222.527561343,
            264863.7794651603
           ],
           [
            285148.80096312385,
            262113.82195343278,
            397855.1829092209,
            422824.6479142842
           ],
           [
            473661.6106353559,
            435398.1399174216,
            660878.5529974331,
            702355.4131541824
           ],
           [
            123520.37917090132,
            113542.10514868166,
            172342.36924329397,
            183158.608512532
           ]
          ],
          [
           [
            229488047062.26886,
            210949471874.73093,
            320194256187.5681,
            340289707010.69904
           ],
           [
            366351346963.5944,
            336756637881.00085,
            511153406663.0184,
            543233489138.4995
           ],
           [
            608547429650.5568,
            559387560872.299,
            849078608172.3258,
            902366938883.3685
           ],
           [
            158695580195.41013,
            145875784205.8426,
            221420740258.1464,
            235317146927.20386
           ]
          ],
          [
           [
            3.788022509874261e+23,
            3.48201729082102e+23,
            5.285255879326243e+23,
            5.6169595172217556e+23
           ],
           [
            6.047143485622599e+23,
            5.55864124939229e+23,
            8.437304841036206e+23,
            8.966831655575581e+23
           ],
           [
            1.0044929970653095e+24,
            9.233477296327198e+23,
            1.4015234874244956e+24,
            1.489483361078517e+24
           ],
           [
            2.619493423265991e+23,
            2.4078846863312045e+23,
            3.6548602813430914e+23,
            3.88423998953536e+23
           ]
          ],
          [
           [
            1.0320898641125605e+48,
            9.48715257935556e+47,
            1.4400281434639626e+48,
            1.5304045764626635e+48
           ],
           [
            1.647613096827281e+48,
            1.5145151003672874e+48,
            2.2988397730377686e+48,
            2.4431153829733714e+48
           ],
           [
            2.7368555443921232e+48,
            2.5157660238848683e+48,
            3.818610322182389e+48,
            4.058267013266704e+48
           ],
           [
            7.137108093246478e+47,
            6.560555995209171e+47,
            9.958082987334195e+47,
            1.058305412000625e+48
           ]
          ],
          [
           [
            7.661740469119732e+96,
            7.042807354421877e+96,
            1.069007872966178e+97,
            1.1360990050698951e+97
           ],
           [
            1.223108992768534e+97,
            1.1243034196014018e+97,
            1.7065484638055312e+97,
            1.8136517614724464e+97
           ],
           [
            2.0317103783045144e+97,
            1.8675841151302088e+97,
            2.8347532766848625e+97,
            3.0126629173686092e+97
           ],
           [
            5.298246965880946e+96,
            4.870242322517202e+96,
            7.392403517547789e+96,
            7.856352131493568e+96
           ]
          ],
          [
           [
            4.222282471764258e+194,
            3.8811967286597984e+194,
            5.891159094196864e+194,
            6.260889330080059e+194
           ],
           [
            6.74038970915071e+194,
            6.19588543968655e+194,
            9.404559832043187e+194,
            9.994791748968352e+194
           ],
           [
            1.119648355695644e+195,
            1.0292005720686614e+195,
            1.5621945327127402e+195,
            1.6602381509277495e+195
           ],
           [
            2.919792883259524e+194,
            2.6839252614323286e+194,
            4.073854488043832e+194,
            4.3295303502526755e+194
           ]
          ],
          [
           [
            null,
            null,
            null,
            null
           ],
           [
            null,
            null,
            null,
            null
           ],
           [
            null,
            null,
            null,
            null
           ],
           [
            null,
            null,
            null,
            null
           ]
          ],
          [
           [
            null,
            null,
            null,
            null
           ],
           [
            null,
            null,
            null,
            null
           ],
           [
            null,
            null,
            null,
            null
           ],
           [
            null,
            null,
            null,
            null
           ]
          ],
          [
           [
            null,
            null,
            null,
            null
           ],
           [
            null,
            null,
            null,
            null
           ],
           [
            null,
            null,
            null,
            null
           ],
           [
            null,
            null,
            null,
            null
           ]
          ],
          [
           [
            null,
            null,
            null,
            null
           ],
           [
            null,
            null,
            null,
            null
           ],
           [
            null,
            null,
            null,
            null
           ],
           [
            null,
            null,
            null,
            null
           ]
          ],
          [
           [
            null,
            null,
            null,
            null
           ],
           [
            null,
            null,
            null,
            null
           ],
           [
            null,
            null,
            null,
            null
           ],
           [
            null,
            null,
            null,
            null
           ]
          ],
          [
           [
            null,
            null,
            null,
            null
           ],
           [
            null,
            null,
            null,
            null
           ],
           [
            null,
            null,
            null,
            null
           ],
           [
            null,
            null,
            null,
            null
           ]
          ],
          [
           [
            null,
            null,
            null,
            null
           ],
           [
            null,
            null,
            null,
            null
           ],
           [
            null,
            null,
            null,
            null
           ],
           [
            null,
            null,
            null,
            null
           ]
          ],
          [
           [
            null,
            null,
            null,
            null
           ],
           [
            null,
            null,
            null,
            null
           ],
           [
            null,
            null,
            null,
            null
           ],
           [
            null,
            null,
            null,
            null
           ]
          ],
          [
           [
            null,
            null,
            null,
            null
           ],
           [
            null,
            null,
            null,
            null
           ],
           [
            null,
            null,
            null,
            null
           ],
           [
            null,
            null,
            null,
            null
           ]
          ],
          [
           [
            null,
            null,
            null,
            null
           ],
           [
            null,
            null,
            null,
            null
           ],
           [
            null,
            null,
            null,
            null
           ],
           [
            null,
            null,
            null,
            null
           ]
          ],
          [
           [
            null,
            null,
            null,
            null
           ],
           [
            null,
            null,
            null,
            null
           ],
           [
            null,
            null,
            null,
            null
           ],
           [
            null,
            null,
            null,
            null
           ]
          ]
         ],
         "yaxis": "y"
        }
       ],
       "layout": {
        "legend": {
         "tracegroupgap": 0
        },
        "margin": {
         "t": 60
        },
        "template": {
         "data": {
          "bar": [
           {
            "error_x": {
             "color": "#2a3f5f"
            },
            "error_y": {
             "color": "#2a3f5f"
            },
            "marker": {
             "line": {
              "color": "#E5ECF6",
              "width": 0.5
             },
             "pattern": {
              "fillmode": "overlay",
              "size": 10,
              "solidity": 0.2
             }
            },
            "type": "bar"
           }
          ],
          "barpolar": [
           {
            "marker": {
             "line": {
              "color": "#E5ECF6",
              "width": 0.5
             },
             "pattern": {
              "fillmode": "overlay",
              "size": 10,
              "solidity": 0.2
             }
            },
            "type": "barpolar"
           }
          ],
          "carpet": [
           {
            "aaxis": {
             "endlinecolor": "#2a3f5f",
             "gridcolor": "white",
             "linecolor": "white",
             "minorgridcolor": "white",
             "startlinecolor": "#2a3f5f"
            },
            "baxis": {
             "endlinecolor": "#2a3f5f",
             "gridcolor": "white",
             "linecolor": "white",
             "minorgridcolor": "white",
             "startlinecolor": "#2a3f5f"
            },
            "type": "carpet"
           }
          ],
          "choropleth": [
           {
            "colorbar": {
             "outlinewidth": 0,
             "ticks": ""
            },
            "type": "choropleth"
           }
          ],
          "contour": [
           {
            "colorbar": {
             "outlinewidth": 0,
             "ticks": ""
            },
            "colorscale": [
             [
              0,
              "#0d0887"
             ],
             [
              0.1111111111111111,
              "#46039f"
             ],
             [
              0.2222222222222222,
              "#7201a8"
             ],
             [
              0.3333333333333333,
              "#9c179e"
             ],
             [
              0.4444444444444444,
              "#bd3786"
             ],
             [
              0.5555555555555556,
              "#d8576b"
             ],
             [
              0.6666666666666666,
              "#ed7953"
             ],
             [
              0.7777777777777778,
              "#fb9f3a"
             ],
             [
              0.8888888888888888,
              "#fdca26"
             ],
             [
              1,
              "#f0f921"
             ]
            ],
            "type": "contour"
           }
          ],
          "contourcarpet": [
           {
            "colorbar": {
             "outlinewidth": 0,
             "ticks": ""
            },
            "type": "contourcarpet"
           }
          ],
          "heatmap": [
           {
            "colorbar": {
             "outlinewidth": 0,
             "ticks": ""
            },
            "colorscale": [
             [
              0,
              "#0d0887"
             ],
             [
              0.1111111111111111,
              "#46039f"
             ],
             [
              0.2222222222222222,
              "#7201a8"
             ],
             [
              0.3333333333333333,
              "#9c179e"
             ],
             [
              0.4444444444444444,
              "#bd3786"
             ],
             [
              0.5555555555555556,
              "#d8576b"
             ],
             [
              0.6666666666666666,
              "#ed7953"
             ],
             [
              0.7777777777777778,
              "#fb9f3a"
             ],
             [
              0.8888888888888888,
              "#fdca26"
             ],
             [
              1,
              "#f0f921"
             ]
            ],
            "type": "heatmap"
           }
          ],
          "heatmapgl": [
           {
            "colorbar": {
             "outlinewidth": 0,
             "ticks": ""
            },
            "colorscale": [
             [
              0,
              "#0d0887"
             ],
             [
              0.1111111111111111,
              "#46039f"
             ],
             [
              0.2222222222222222,
              "#7201a8"
             ],
             [
              0.3333333333333333,
              "#9c179e"
             ],
             [
              0.4444444444444444,
              "#bd3786"
             ],
             [
              0.5555555555555556,
              "#d8576b"
             ],
             [
              0.6666666666666666,
              "#ed7953"
             ],
             [
              0.7777777777777778,
              "#fb9f3a"
             ],
             [
              0.8888888888888888,
              "#fdca26"
             ],
             [
              1,
              "#f0f921"
             ]
            ],
            "type": "heatmapgl"
           }
          ],
          "histogram": [
           {
            "marker": {
             "pattern": {
              "fillmode": "overlay",
              "size": 10,
              "solidity": 0.2
             }
            },
            "type": "histogram"
           }
          ],
          "histogram2d": [
           {
            "colorbar": {
             "outlinewidth": 0,
             "ticks": ""
            },
            "colorscale": [
             [
              0,
              "#0d0887"
             ],
             [
              0.1111111111111111,
              "#46039f"
             ],
             [
              0.2222222222222222,
              "#7201a8"
             ],
             [
              0.3333333333333333,
              "#9c179e"
             ],
             [
              0.4444444444444444,
              "#bd3786"
             ],
             [
              0.5555555555555556,
              "#d8576b"
             ],
             [
              0.6666666666666666,
              "#ed7953"
             ],
             [
              0.7777777777777778,
              "#fb9f3a"
             ],
             [
              0.8888888888888888,
              "#fdca26"
             ],
             [
              1,
              "#f0f921"
             ]
            ],
            "type": "histogram2d"
           }
          ],
          "histogram2dcontour": [
           {
            "colorbar": {
             "outlinewidth": 0,
             "ticks": ""
            },
            "colorscale": [
             [
              0,
              "#0d0887"
             ],
             [
              0.1111111111111111,
              "#46039f"
             ],
             [
              0.2222222222222222,
              "#7201a8"
             ],
             [
              0.3333333333333333,
              "#9c179e"
             ],
             [
              0.4444444444444444,
              "#bd3786"
             ],
             [
              0.5555555555555556,
              "#d8576b"
             ],
             [
              0.6666666666666666,
              "#ed7953"
             ],
             [
              0.7777777777777778,
              "#fb9f3a"
             ],
             [
              0.8888888888888888,
              "#fdca26"
             ],
             [
              1,
              "#f0f921"
             ]
            ],
            "type": "histogram2dcontour"
           }
          ],
          "mesh3d": [
           {
            "colorbar": {
             "outlinewidth": 0,
             "ticks": ""
            },
            "type": "mesh3d"
           }
          ],
          "parcoords": [
           {
            "line": {
             "colorbar": {
              "outlinewidth": 0,
              "ticks": ""
             }
            },
            "type": "parcoords"
           }
          ],
          "pie": [
           {
            "automargin": true,
            "type": "pie"
           }
          ],
          "scatter": [
           {
            "fillpattern": {
             "fillmode": "overlay",
             "size": 10,
             "solidity": 0.2
            },
            "type": "scatter"
           }
          ],
          "scatter3d": [
           {
            "line": {
             "colorbar": {
              "outlinewidth": 0,
              "ticks": ""
             }
            },
            "marker": {
             "colorbar": {
              "outlinewidth": 0,
              "ticks": ""
             }
            },
            "type": "scatter3d"
           }
          ],
          "scattercarpet": [
           {
            "marker": {
             "colorbar": {
              "outlinewidth": 0,
              "ticks": ""
             }
            },
            "type": "scattercarpet"
           }
          ],
          "scattergeo": [
           {
            "marker": {
             "colorbar": {
              "outlinewidth": 0,
              "ticks": ""
             }
            },
            "type": "scattergeo"
           }
          ],
          "scattergl": [
           {
            "marker": {
             "colorbar": {
              "outlinewidth": 0,
              "ticks": ""
             }
            },
            "type": "scattergl"
           }
          ],
          "scattermapbox": [
           {
            "marker": {
             "colorbar": {
              "outlinewidth": 0,
              "ticks": ""
             }
            },
            "type": "scattermapbox"
           }
          ],
          "scatterpolar": [
           {
            "marker": {
             "colorbar": {
              "outlinewidth": 0,
              "ticks": ""
             }
            },
            "type": "scatterpolar"
           }
          ],
          "scatterpolargl": [
           {
            "marker": {
             "colorbar": {
              "outlinewidth": 0,
              "ticks": ""
             }
            },
            "type": "scatterpolargl"
           }
          ],
          "scatterternary": [
           {
            "marker": {
             "colorbar": {
              "outlinewidth": 0,
              "ticks": ""
             }
            },
            "type": "scatterternary"
           }
          ],
          "surface": [
           {
            "colorbar": {
             "outlinewidth": 0,
             "ticks": ""
            },
            "colorscale": [
             [
              0,
              "#0d0887"
             ],
             [
              0.1111111111111111,
              "#46039f"
             ],
             [
              0.2222222222222222,
              "#7201a8"
             ],
             [
              0.3333333333333333,
              "#9c179e"
             ],
             [
              0.4444444444444444,
              "#bd3786"
             ],
             [
              0.5555555555555556,
              "#d8576b"
             ],
             [
              0.6666666666666666,
              "#ed7953"
             ],
             [
              0.7777777777777778,
              "#fb9f3a"
             ],
             [
              0.8888888888888888,
              "#fdca26"
             ],
             [
              1,
              "#f0f921"
             ]
            ],
            "type": "surface"
           }
          ],
          "table": [
           {
            "cells": {
             "fill": {
              "color": "#EBF0F8"
             },
             "line": {
              "color": "white"
             }
            },
            "header": {
             "fill": {
              "color": "#C8D4E3"
             },
             "line": {
              "color": "white"
             }
            },
            "type": "table"
           }
          ]
         },
         "layout": {
          "annotationdefaults": {
           "arrowcolor": "#2a3f5f",
           "arrowhead": 0,
           "arrowwidth": 1
          },
          "autotypenumbers": "strict",
          "coloraxis": {
           "colorbar": {
            "outlinewidth": 0,
            "ticks": ""
           }
          },
          "colorscale": {
           "diverging": [
            [
             0,
             "#8e0152"
            ],
            [
             0.1,
             "#c51b7d"
            ],
            [
             0.2,
             "#de77ae"
            ],
            [
             0.3,
             "#f1b6da"
            ],
            [
             0.4,
             "#fde0ef"
            ],
            [
             0.5,
             "#f7f7f7"
            ],
            [
             0.6,
             "#e6f5d0"
            ],
            [
             0.7,
             "#b8e186"
            ],
            [
             0.8,
             "#7fbc41"
            ],
            [
             0.9,
             "#4d9221"
            ],
            [
             1,
             "#276419"
            ]
           ],
           "sequential": [
            [
             0,
             "#0d0887"
            ],
            [
             0.1111111111111111,
             "#46039f"
            ],
            [
             0.2222222222222222,
             "#7201a8"
            ],
            [
             0.3333333333333333,
             "#9c179e"
            ],
            [
             0.4444444444444444,
             "#bd3786"
            ],
            [
             0.5555555555555556,
             "#d8576b"
            ],
            [
             0.6666666666666666,
             "#ed7953"
            ],
            [
             0.7777777777777778,
             "#fb9f3a"
            ],
            [
             0.8888888888888888,
             "#fdca26"
            ],
            [
             1,
             "#f0f921"
            ]
           ],
           "sequentialminus": [
            [
             0,
             "#0d0887"
            ],
            [
             0.1111111111111111,
             "#46039f"
            ],
            [
             0.2222222222222222,
             "#7201a8"
            ],
            [
             0.3333333333333333,
             "#9c179e"
            ],
            [
             0.4444444444444444,
             "#bd3786"
            ],
            [
             0.5555555555555556,
             "#d8576b"
            ],
            [
             0.6666666666666666,
             "#ed7953"
            ],
            [
             0.7777777777777778,
             "#fb9f3a"
            ],
            [
             0.8888888888888888,
             "#fdca26"
            ],
            [
             1,
             "#f0f921"
            ]
           ]
          },
          "colorway": [
           "#636efa",
           "#EF553B",
           "#00cc96",
           "#ab63fa",
           "#FFA15A",
           "#19d3f3",
           "#FF6692",
           "#B6E880",
           "#FF97FF",
           "#FECB52"
          ],
          "font": {
           "color": "#2a3f5f"
          },
          "geo": {
           "bgcolor": "white",
           "lakecolor": "white",
           "landcolor": "#E5ECF6",
           "showlakes": true,
           "showland": true,
           "subunitcolor": "white"
          },
          "hoverlabel": {
           "align": "left"
          },
          "hovermode": "closest",
          "mapbox": {
           "style": "light"
          },
          "paper_bgcolor": "white",
          "plot_bgcolor": "#E5ECF6",
          "polar": {
           "angularaxis": {
            "gridcolor": "white",
            "linecolor": "white",
            "ticks": ""
           },
           "bgcolor": "#E5ECF6",
           "radialaxis": {
            "gridcolor": "white",
            "linecolor": "white",
            "ticks": ""
           }
          },
          "scene": {
           "xaxis": {
            "backgroundcolor": "#E5ECF6",
            "gridcolor": "white",
            "gridwidth": 2,
            "linecolor": "white",
            "showbackground": true,
            "ticks": "",
            "zerolinecolor": "white"
           },
           "yaxis": {
            "backgroundcolor": "#E5ECF6",
            "gridcolor": "white",
            "gridwidth": 2,
            "linecolor": "white",
            "showbackground": true,
            "ticks": "",
            "zerolinecolor": "white"
           },
           "zaxis": {
            "backgroundcolor": "#E5ECF6",
            "gridcolor": "white",
            "gridwidth": 2,
            "linecolor": "white",
            "showbackground": true,
            "ticks": "",
            "zerolinecolor": "white"
           }
          },
          "shapedefaults": {
           "line": {
            "color": "#2a3f5f"
           }
          },
          "ternary": {
           "aaxis": {
            "gridcolor": "white",
            "linecolor": "white",
            "ticks": ""
           },
           "baxis": {
            "gridcolor": "white",
            "linecolor": "white",
            "ticks": ""
           },
           "bgcolor": "#E5ECF6",
           "caxis": {
            "gridcolor": "white",
            "linecolor": "white",
            "ticks": ""
           }
          },
          "title": {
           "x": 0.05
          },
          "xaxis": {
           "automargin": true,
           "gridcolor": "white",
           "linecolor": "white",
           "ticks": "",
           "title": {
            "standoff": 15
           },
           "zerolinecolor": "white",
           "zerolinewidth": 2
          },
          "yaxis": {
           "automargin": true,
           "gridcolor": "white",
           "linecolor": "white",
           "ticks": "",
           "title": {
            "standoff": 15
           },
           "zerolinecolor": "white",
           "zerolinewidth": 2
          }
         }
        },
        "xaxis": {
         "anchor": "y",
         "domain": [
          0,
          1
         ],
         "title": {
          "text": "x"
         }
        },
        "yaxis": {
         "anchor": "x",
         "domain": [
          0,
          1
         ],
         "title": {
          "text": "y"
         }
        }
       }
      },
      "text/html": [
       "<div>                            <div id=\"2f587f17-ec9c-419e-ad3f-4c4bc1a71d5c\" class=\"plotly-graph-div\" style=\"height:525px; width:100%;\"></div>            <script type=\"text/javascript\">                require([\"plotly\"], function(Plotly) {                    window.PLOTLYENV=window.PLOTLYENV || {};                                    if (document.getElementById(\"2f587f17-ec9c-419e-ad3f-4c4bc1a71d5c\")) {                    Plotly.newPlot(                        \"2f587f17-ec9c-419e-ad3f-4c4bc1a71d5c\",                        [{\"hovertemplate\":\"x=%{x}\\u003cbr\\u003ey=%{y}\\u003cextra\\u003e\\u003c\\u002fextra\\u003e\",\"legendgroup\":\"\",\"line\":{\"color\":\"#636efa\",\"dash\":\"solid\"},\"marker\":{\"symbol\":\"circle\"},\"mode\":\"lines\",\"name\":\"\",\"orientation\":\"v\",\"showlegend\":false,\"x\":[0,1,2,3,4,5,6,7,8,9,10,11,12,13,14,15,16,17,18,19,20],\"xaxis\":\"x\",\"y\":[1.088611493505701,[[-0.8505460285448792,-1.0328684816628169,-0.9781657444982894,-1.0253899014194685],[-0.8254115172013975,-1.4599677386696528,-1.8043253747100245,-1.91180372875695],[-1.9504743110470897,-2.6362872515494034,-2.7736994670436923,-2.7074122084855605],[-0.9924692183830705,0.485273482110198,-1.071601401341399,-1.3781507398739792]],[[4.501525157782114,4.467588200744622,6.507552858921824,6.90822285279844],[7.32382131863483,6.813019668904981,10.4949939934127,11.157346671757557],[11.932042874550179,11.861910971978965,17.259282589685704,18.280830397124546],[3.901493623637817,2.472875651063045,4.544336634338545,4.890486439871663]],[[157.58433358555914,144.8239157072838,219.89020818948532,233.69200960929396],[251.62273980646603,231.21847003275502,351.001561194322,373.03186994627725],[417.8479507131434,384.05718060935266,583.096166912783,619.6928351352525],[108.97699233028372,100.2760987499324,151.99799793208757,161.53422322427204]],[[178621.53786407574,164192.08089148338,249222.527561343,264863.7794651603],[285148.80096312385,262113.82195343278,397855.1829092209,422824.6479142842],[473661.6106353559,435398.1399174216,660878.5529974331,702355.4131541824],[123520.37917090132,113542.10514868166,172342.36924329397,183158.608512532]],[[229488047062.26886,210949471874.73093,320194256187.5681,340289707010.69904],[366351346963.5944,336756637881.00085,511153406663.0184,543233489138.4995],[608547429650.5568,559387560872.299,849078608172.3258,902366938883.3685],[158695580195.41013,145875784205.8426,221420740258.1464,235317146927.20386]],[[3.788022509874261e+23,3.48201729082102e+23,5.285255879326243e+23,5.6169595172217556e+23],[6.047143485622599e+23,5.55864124939229e+23,8.437304841036206e+23,8.966831655575581e+23],[1.0044929970653095e+24,9.233477296327198e+23,1.4015234874244956e+24,1.489483361078517e+24],[2.619493423265991e+23,2.4078846863312045e+23,3.6548602813430914e+23,3.88423998953536e+23]],[[1.0320898641125605e+48,9.48715257935556e+47,1.4400281434639626e+48,1.5304045764626635e+48],[1.647613096827281e+48,1.5145151003672874e+48,2.2988397730377686e+48,2.4431153829733714e+48],[2.7368555443921232e+48,2.5157660238848683e+48,3.818610322182389e+48,4.058267013266704e+48],[7.137108093246478e+47,6.560555995209171e+47,9.958082987334195e+47,1.058305412000625e+48]],[[7.661740469119732e+96,7.042807354421877e+96,1.069007872966178e+97,1.1360990050698951e+97],[1.223108992768534e+97,1.1243034196014018e+97,1.7065484638055312e+97,1.8136517614724464e+97],[2.0317103783045144e+97,1.8675841151302088e+97,2.8347532766848625e+97,3.0126629173686092e+97],[5.298246965880946e+96,4.870242322517202e+96,7.392403517547789e+96,7.856352131493568e+96]],[[4.222282471764258e+194,3.8811967286597984e+194,5.891159094196864e+194,6.260889330080059e+194],[6.74038970915071e+194,6.19588543968655e+194,9.404559832043187e+194,9.994791748968352e+194],[1.119648355695644e+195,1.0292005720686614e+195,1.5621945327127402e+195,1.6602381509277495e+195],[2.919792883259524e+194,2.6839252614323286e+194,4.073854488043832e+194,4.3295303502526755e+194]],[[null,null,null,null],[null,null,null,null],[null,null,null,null],[null,null,null,null]],[[null,null,null,null],[null,null,null,null],[null,null,null,null],[null,null,null,null]],[[null,null,null,null],[null,null,null,null],[null,null,null,null],[null,null,null,null]],[[null,null,null,null],[null,null,null,null],[null,null,null,null],[null,null,null,null]],[[null,null,null,null],[null,null,null,null],[null,null,null,null],[null,null,null,null]],[[null,null,null,null],[null,null,null,null],[null,null,null,null],[null,null,null,null]],[[null,null,null,null],[null,null,null,null],[null,null,null,null],[null,null,null,null]],[[null,null,null,null],[null,null,null,null],[null,null,null,null],[null,null,null,null]],[[null,null,null,null],[null,null,null,null],[null,null,null,null],[null,null,null,null]],[[null,null,null,null],[null,null,null,null],[null,null,null,null],[null,null,null,null]],[[null,null,null,null],[null,null,null,null],[null,null,null,null],[null,null,null,null]]],\"yaxis\":\"y\",\"type\":\"scatter\"}],                        {\"template\":{\"data\":{\"histogram2dcontour\":[{\"type\":\"histogram2dcontour\",\"colorbar\":{\"outlinewidth\":0,\"ticks\":\"\"},\"colorscale\":[[0.0,\"#0d0887\"],[0.1111111111111111,\"#46039f\"],[0.2222222222222222,\"#7201a8\"],[0.3333333333333333,\"#9c179e\"],[0.4444444444444444,\"#bd3786\"],[0.5555555555555556,\"#d8576b\"],[0.6666666666666666,\"#ed7953\"],[0.7777777777777778,\"#fb9f3a\"],[0.8888888888888888,\"#fdca26\"],[1.0,\"#f0f921\"]]}],\"choropleth\":[{\"type\":\"choropleth\",\"colorbar\":{\"outlinewidth\":0,\"ticks\":\"\"}}],\"histogram2d\":[{\"type\":\"histogram2d\",\"colorbar\":{\"outlinewidth\":0,\"ticks\":\"\"},\"colorscale\":[[0.0,\"#0d0887\"],[0.1111111111111111,\"#46039f\"],[0.2222222222222222,\"#7201a8\"],[0.3333333333333333,\"#9c179e\"],[0.4444444444444444,\"#bd3786\"],[0.5555555555555556,\"#d8576b\"],[0.6666666666666666,\"#ed7953\"],[0.7777777777777778,\"#fb9f3a\"],[0.8888888888888888,\"#fdca26\"],[1.0,\"#f0f921\"]]}],\"heatmap\":[{\"type\":\"heatmap\",\"colorbar\":{\"outlinewidth\":0,\"ticks\":\"\"},\"colorscale\":[[0.0,\"#0d0887\"],[0.1111111111111111,\"#46039f\"],[0.2222222222222222,\"#7201a8\"],[0.3333333333333333,\"#9c179e\"],[0.4444444444444444,\"#bd3786\"],[0.5555555555555556,\"#d8576b\"],[0.6666666666666666,\"#ed7953\"],[0.7777777777777778,\"#fb9f3a\"],[0.8888888888888888,\"#fdca26\"],[1.0,\"#f0f921\"]]}],\"heatmapgl\":[{\"type\":\"heatmapgl\",\"colorbar\":{\"outlinewidth\":0,\"ticks\":\"\"},\"colorscale\":[[0.0,\"#0d0887\"],[0.1111111111111111,\"#46039f\"],[0.2222222222222222,\"#7201a8\"],[0.3333333333333333,\"#9c179e\"],[0.4444444444444444,\"#bd3786\"],[0.5555555555555556,\"#d8576b\"],[0.6666666666666666,\"#ed7953\"],[0.7777777777777778,\"#fb9f3a\"],[0.8888888888888888,\"#fdca26\"],[1.0,\"#f0f921\"]]}],\"contourcarpet\":[{\"type\":\"contourcarpet\",\"colorbar\":{\"outlinewidth\":0,\"ticks\":\"\"}}],\"contour\":[{\"type\":\"contour\",\"colorbar\":{\"outlinewidth\":0,\"ticks\":\"\"},\"colorscale\":[[0.0,\"#0d0887\"],[0.1111111111111111,\"#46039f\"],[0.2222222222222222,\"#7201a8\"],[0.3333333333333333,\"#9c179e\"],[0.4444444444444444,\"#bd3786\"],[0.5555555555555556,\"#d8576b\"],[0.6666666666666666,\"#ed7953\"],[0.7777777777777778,\"#fb9f3a\"],[0.8888888888888888,\"#fdca26\"],[1.0,\"#f0f921\"]]}],\"surface\":[{\"type\":\"surface\",\"colorbar\":{\"outlinewidth\":0,\"ticks\":\"\"},\"colorscale\":[[0.0,\"#0d0887\"],[0.1111111111111111,\"#46039f\"],[0.2222222222222222,\"#7201a8\"],[0.3333333333333333,\"#9c179e\"],[0.4444444444444444,\"#bd3786\"],[0.5555555555555556,\"#d8576b\"],[0.6666666666666666,\"#ed7953\"],[0.7777777777777778,\"#fb9f3a\"],[0.8888888888888888,\"#fdca26\"],[1.0,\"#f0f921\"]]}],\"mesh3d\":[{\"type\":\"mesh3d\",\"colorbar\":{\"outlinewidth\":0,\"ticks\":\"\"}}],\"scatter\":[{\"fillpattern\":{\"fillmode\":\"overlay\",\"size\":10,\"solidity\":0.2},\"type\":\"scatter\"}],\"parcoords\":[{\"type\":\"parcoords\",\"line\":{\"colorbar\":{\"outlinewidth\":0,\"ticks\":\"\"}}}],\"scatterpolargl\":[{\"type\":\"scatterpolargl\",\"marker\":{\"colorbar\":{\"outlinewidth\":0,\"ticks\":\"\"}}}],\"bar\":[{\"error_x\":{\"color\":\"#2a3f5f\"},\"error_y\":{\"color\":\"#2a3f5f\"},\"marker\":{\"line\":{\"color\":\"#E5ECF6\",\"width\":0.5},\"pattern\":{\"fillmode\":\"overlay\",\"size\":10,\"solidity\":0.2}},\"type\":\"bar\"}],\"scattergeo\":[{\"type\":\"scattergeo\",\"marker\":{\"colorbar\":{\"outlinewidth\":0,\"ticks\":\"\"}}}],\"scatterpolar\":[{\"type\":\"scatterpolar\",\"marker\":{\"colorbar\":{\"outlinewidth\":0,\"ticks\":\"\"}}}],\"histogram\":[{\"marker\":{\"pattern\":{\"fillmode\":\"overlay\",\"size\":10,\"solidity\":0.2}},\"type\":\"histogram\"}],\"scattergl\":[{\"type\":\"scattergl\",\"marker\":{\"colorbar\":{\"outlinewidth\":0,\"ticks\":\"\"}}}],\"scatter3d\":[{\"type\":\"scatter3d\",\"line\":{\"colorbar\":{\"outlinewidth\":0,\"ticks\":\"\"}},\"marker\":{\"colorbar\":{\"outlinewidth\":0,\"ticks\":\"\"}}}],\"scattermapbox\":[{\"type\":\"scattermapbox\",\"marker\":{\"colorbar\":{\"outlinewidth\":0,\"ticks\":\"\"}}}],\"scatterternary\":[{\"type\":\"scatterternary\",\"marker\":{\"colorbar\":{\"outlinewidth\":0,\"ticks\":\"\"}}}],\"scattercarpet\":[{\"type\":\"scattercarpet\",\"marker\":{\"colorbar\":{\"outlinewidth\":0,\"ticks\":\"\"}}}],\"carpet\":[{\"aaxis\":{\"endlinecolor\":\"#2a3f5f\",\"gridcolor\":\"white\",\"linecolor\":\"white\",\"minorgridcolor\":\"white\",\"startlinecolor\":\"#2a3f5f\"},\"baxis\":{\"endlinecolor\":\"#2a3f5f\",\"gridcolor\":\"white\",\"linecolor\":\"white\",\"minorgridcolor\":\"white\",\"startlinecolor\":\"#2a3f5f\"},\"type\":\"carpet\"}],\"table\":[{\"cells\":{\"fill\":{\"color\":\"#EBF0F8\"},\"line\":{\"color\":\"white\"}},\"header\":{\"fill\":{\"color\":\"#C8D4E3\"},\"line\":{\"color\":\"white\"}},\"type\":\"table\"}],\"barpolar\":[{\"marker\":{\"line\":{\"color\":\"#E5ECF6\",\"width\":0.5},\"pattern\":{\"fillmode\":\"overlay\",\"size\":10,\"solidity\":0.2}},\"type\":\"barpolar\"}],\"pie\":[{\"automargin\":true,\"type\":\"pie\"}]},\"layout\":{\"autotypenumbers\":\"strict\",\"colorway\":[\"#636efa\",\"#EF553B\",\"#00cc96\",\"#ab63fa\",\"#FFA15A\",\"#19d3f3\",\"#FF6692\",\"#B6E880\",\"#FF97FF\",\"#FECB52\"],\"font\":{\"color\":\"#2a3f5f\"},\"hovermode\":\"closest\",\"hoverlabel\":{\"align\":\"left\"},\"paper_bgcolor\":\"white\",\"plot_bgcolor\":\"#E5ECF6\",\"polar\":{\"bgcolor\":\"#E5ECF6\",\"angularaxis\":{\"gridcolor\":\"white\",\"linecolor\":\"white\",\"ticks\":\"\"},\"radialaxis\":{\"gridcolor\":\"white\",\"linecolor\":\"white\",\"ticks\":\"\"}},\"ternary\":{\"bgcolor\":\"#E5ECF6\",\"aaxis\":{\"gridcolor\":\"white\",\"linecolor\":\"white\",\"ticks\":\"\"},\"baxis\":{\"gridcolor\":\"white\",\"linecolor\":\"white\",\"ticks\":\"\"},\"caxis\":{\"gridcolor\":\"white\",\"linecolor\":\"white\",\"ticks\":\"\"}},\"coloraxis\":{\"colorbar\":{\"outlinewidth\":0,\"ticks\":\"\"}},\"colorscale\":{\"sequential\":[[0.0,\"#0d0887\"],[0.1111111111111111,\"#46039f\"],[0.2222222222222222,\"#7201a8\"],[0.3333333333333333,\"#9c179e\"],[0.4444444444444444,\"#bd3786\"],[0.5555555555555556,\"#d8576b\"],[0.6666666666666666,\"#ed7953\"],[0.7777777777777778,\"#fb9f3a\"],[0.8888888888888888,\"#fdca26\"],[1.0,\"#f0f921\"]],\"sequentialminus\":[[0.0,\"#0d0887\"],[0.1111111111111111,\"#46039f\"],[0.2222222222222222,\"#7201a8\"],[0.3333333333333333,\"#9c179e\"],[0.4444444444444444,\"#bd3786\"],[0.5555555555555556,\"#d8576b\"],[0.6666666666666666,\"#ed7953\"],[0.7777777777777778,\"#fb9f3a\"],[0.8888888888888888,\"#fdca26\"],[1.0,\"#f0f921\"]],\"diverging\":[[0,\"#8e0152\"],[0.1,\"#c51b7d\"],[0.2,\"#de77ae\"],[0.3,\"#f1b6da\"],[0.4,\"#fde0ef\"],[0.5,\"#f7f7f7\"],[0.6,\"#e6f5d0\"],[0.7,\"#b8e186\"],[0.8,\"#7fbc41\"],[0.9,\"#4d9221\"],[1,\"#276419\"]]},\"xaxis\":{\"gridcolor\":\"white\",\"linecolor\":\"white\",\"ticks\":\"\",\"title\":{\"standoff\":15},\"zerolinecolor\":\"white\",\"automargin\":true,\"zerolinewidth\":2},\"yaxis\":{\"gridcolor\":\"white\",\"linecolor\":\"white\",\"ticks\":\"\",\"title\":{\"standoff\":15},\"zerolinecolor\":\"white\",\"automargin\":true,\"zerolinewidth\":2},\"scene\":{\"xaxis\":{\"backgroundcolor\":\"#E5ECF6\",\"gridcolor\":\"white\",\"linecolor\":\"white\",\"showbackground\":true,\"ticks\":\"\",\"zerolinecolor\":\"white\",\"gridwidth\":2},\"yaxis\":{\"backgroundcolor\":\"#E5ECF6\",\"gridcolor\":\"white\",\"linecolor\":\"white\",\"showbackground\":true,\"ticks\":\"\",\"zerolinecolor\":\"white\",\"gridwidth\":2},\"zaxis\":{\"backgroundcolor\":\"#E5ECF6\",\"gridcolor\":\"white\",\"linecolor\":\"white\",\"showbackground\":true,\"ticks\":\"\",\"zerolinecolor\":\"white\",\"gridwidth\":2}},\"shapedefaults\":{\"line\":{\"color\":\"#2a3f5f\"}},\"annotationdefaults\":{\"arrowcolor\":\"#2a3f5f\",\"arrowhead\":0,\"arrowwidth\":1},\"geo\":{\"bgcolor\":\"white\",\"landcolor\":\"#E5ECF6\",\"subunitcolor\":\"white\",\"showland\":true,\"showlakes\":true,\"lakecolor\":\"white\"},\"title\":{\"x\":0.05},\"mapbox\":{\"style\":\"light\"}}},\"xaxis\":{\"anchor\":\"y\",\"domain\":[0.0,1.0],\"title\":{\"text\":\"x\"}},\"yaxis\":{\"anchor\":\"x\",\"domain\":[0.0,1.0],\"title\":{\"text\":\"y\"}},\"legend\":{\"tracegroupgap\":0},\"margin\":{\"t\":60}},                        {\"responsive\": true}                    ).then(function(){\n",
       "                            \n",
       "var gd = document.getElementById('2f587f17-ec9c-419e-ad3f-4c4bc1a71d5c');\n",
       "var x = new MutationObserver(function (mutations, observer) {{\n",
       "        var display = window.getComputedStyle(gd).display;\n",
       "        if (!display || display === 'none') {{\n",
       "            console.log([gd, 'removed!']);\n",
       "            Plotly.purge(gd);\n",
       "            observer.disconnect();\n",
       "        }}\n",
       "}});\n",
       "\n",
       "// Listen for the removal of the full notebook cells\n",
       "var notebookContainer = gd.closest('#notebook-container');\n",
       "if (notebookContainer) {{\n",
       "    x.observe(notebookContainer, {childList: true});\n",
       "}}\n",
       "\n",
       "// Listen for the clearing of the current output cell\n",
       "var outputEl = gd.closest('.output');\n",
       "if (outputEl) {{\n",
       "    x.observe(outputEl, {childList: true});\n",
       "}}\n",
       "\n",
       "                        })                };                });            </script>        </div>"
      ]
     },
     "metadata": {},
     "output_type": "display_data"
    }
   ],
   "source": [
    "\n",
    "nmax = 20\n",
    "\n",
    "num_nodes = 4\n",
    "logmean = 6\n",
    "logstd = 1\n",
    "# add depletion term, the total output\n",
    "loss = np.abs(2+0.8*np.random.randn(num_nodes,1))\n",
    "seed = np.random.randn(num_nodes,num_nodes)\n",
    "\n",
    "\n",
    "mean = 10\n",
    "lognormal = np.exp(logstd*seed+logmean)\n",
    "A = lognormal/(np.sum(lognormal,axis=1))-loss\n",
    "traces = [np.trace(seed)]\n",
    "for x in range(nmax):\n",
    "    print(f\"{np.trace(A)}\")\n",
    "    A = np.dot(A,traces[-1])\n",
    "    traces.append(A)\n",
    "px.line(y=traces).show()"
   ]
  },
  {
   "cell_type": "code",
   "execution_count": null,
   "metadata": {},
   "outputs": [],
   "source": [
    "\n",
    "# still also need a lookup to find all the _nodes_ which visit a given process ... pah!\n",
    "\n",
    "print(f'starting from {root.process_name}, {root.id}')\n",
    "branch_ends = [root]\n",
    "\n",
    "for layer in range(num_layers):\n",
    "    weight_matrix = supply_chain.transfer.sel(layer=layer)\n",
    "    print(f\"There are {len(branch_ends)} leaves to extend at layer {layer}\")\n",
    "    new_nodes,new_links = find_links(weight_matrix,branch_ends,cutoff)\n",
    "    # print('\\n new_nodes:')\n",
    "    print(new_nodes)\n",
    "    # print('\\n new_links:')\n",
    "    # print(new_links)\n",
    "    unique_processes = set([n.process_name for n in new_nodes])\n",
    "    print(f\"Found {len(new_links)} links to {len(new_nodes)} nodes ({len(unique_processes)} unique processes)\")\n",
    "    \n",
    "    new_node_dict = {node.id:node for node in new_nodes}\n",
    "    nodes.update(new_node_dict) # references to find all nodes by id\n",
    "    # print('\\nState of nodes:')\n",
    "    # print([n.id for n in nodes.values()])\n",
    "    # print([n.process_name for n in nodes.values()])\n",
    "    layers.append(new_nodes) # unique nodes to check for next layer\n",
    "    # print('\\nState of layers:')\n",
    "    # print(layers)\n",
    "    \n",
    "    # expand the tree\n",
    "    for (old_id,new_id) in new_links:\n",
    "        nodes[old_id].add_child(nodes[new_id]) # add the new edges\n",
    "        \n",
    "    # update the leading edge for the next iteration\n",
    "    branch_ends = [process_lookup[p] for p in unique_processes]"
   ]
  },
  {
   "cell_type": "code",
   "execution_count": 123,
   "metadata": {},
   "outputs": [
    {
     "data": {
      "text/plain": [
       "[UUID('b67a6f3c-2d7e-417a-a98f-8d7e5ba8d181'),\n",
       " UUID('ddb40161-ca4d-47d8-bffd-9eb7cc13073a'),\n",
       " UUID('b67a6f3c-2d7e-417a-a98f-8d7e5ba8d181'),\n",
       " UUID('ec757ece-8ade-4a43-b242-93576081589b')]"
      ]
     },
     "execution_count": 123,
     "metadata": {},
     "output_type": "execute_result"
    }
   ],
   "source": [
    "new_links"
   ]
  },
  {
   "cell_type": "code",
   "execution_count": 46,
   "metadata": {},
   "outputs": [
    {
     "name": "stdout",
     "output_type": "stream",
     "text": [
      "Scanning 3 layers of a 10-deep chain with cutoff 0.05\n",
      "  -=-  Results at layer 0\n",
      "1 parent nodes to check\n",
      "['atoms']\n",
      " atoms spawned 2 children:\n",
      "  atoms cats\n",
      "Next generation of processes:\n",
      "['atoms', 'cats']\n",
      "  -=-  Results at layer 1\n",
      "2 parent nodes to check\n",
      "['atoms', 'cats']\n",
      "  atoms spawned 2 children:\n",
      "   atoms bits\n",
      "  cats spawned 3 children:\n",
      "   atoms bits cats\n",
      "Next generation of processes:\n",
      "['atoms', 'bits', 'atoms', 'bits', 'cats']\n",
      "  -=-  Results at layer 2\n",
      "5 parent nodes to check\n",
      "['atoms', 'bits', 'atoms', 'bits', 'cats']\n",
      "   atoms spawned 3 children:\n",
      "    atoms bits cats\n",
      "   bits spawned 3 children:\n",
      "    atoms bits cats\n",
      "   atoms spawned 3 children:\n",
      "    atoms bits cats\n",
      "   bits spawned 3 children:\n",
      "    atoms bits cats\n",
      "   cats spawned 3 children:\n",
      "    atoms bits cats\n",
      "Next generation of processes:\n",
      "['atoms', 'bits', 'cats', 'atoms', 'bits', 'cats', 'atoms', 'bits', 'cats', 'atoms', 'bits', 'cats', 'atoms', 'bits', 'cats']\n",
      "Discovered 22 nodes in total\n",
      "\n",
      "Nodes per layer\n",
      "[2, 5, 15]\n"
     ]
    }
   ],
   "source": [
    "from uuid import UUID\n",
    "\n",
    "\n",
    "max_depth = 4\n",
    "threshold = 1e-2 # proportion of total intensity below which to ignore\n",
    "# the paths can definitely do with a better data structure \n",
    "\n",
    "\n",
    "# thresholds can be absolute or percentages of the total intensity of the target\n",
    "# i.e. if the total intensity of a supplier is <X%, it's not important?\n",
    "# could be made dynamic\n",
    "\n",
    "supply_chain = toy_chain\n",
    "root_name = 'atoms'\n",
    "max_depth = 3\n",
    "cutoff = 0.05\n",
    "\n",
    "\n",
    "#todo implement this better method\n",
    "\n",
    "# nodes = {root.id:root}\n",
    "# layers = [[root]]\n",
    "\n",
    "# def find_links(A,node_names,cutoff):\n",
    "# as earlier implementation but\n",
    "    # new_nodes = [Nodes_made_by_all_links]\n",
    "    # new_links = [(id_old,id_new)]\n",
    "    # return new_nodes, new_links\n",
    "\n",
    "# for layer in range(num_layers):\n",
    "    # branch_ends = layers[layer]\n",
    "    # new_nodes,new_links = find_links(A,[node.name for node in branch_ends],cutoff)\n",
    "    # nodes.update({node.id:node for node in new_nodes})\n",
    "    # for (old_id,new_id) in new_links:\n",
    "    # nodes[old_id].add_child(nodes[new_id])\n",
    "\n",
    "def create_tree(supply_chain,root_name,max_depth,cutoff):# create the tree\n",
    "\n",
    "        \n",
    "    root = Node(root_name)\n",
    "        \n",
    "    num_layers = min(max_depth,len(supply_chain.layer))\n",
    "    print(f'Scanning {num_layers} layers of a {len(supply_chain.layer)}-deep chain with cutoff {cutoff}')\n",
    "        \n",
    "\n",
    "    current_generation = [root] # empty list as this one has no parents\n",
    "    surface_area = []\n",
    "    total_nodes = 0\n",
    "\n",
    "    # def add generation ...\n",
    "    for layer in range(num_layers):\n",
    "        # new nodes that are discovered in this pass\n",
    "        # dict[name of process, [parents in this layer]]\n",
    "        \n",
    "        \n",
    "        print(f'  -=-  Results at layer {layer}')\n",
    "        transferred_intensity = supply_chain.absolute_direct*supply_chain.transfer.sel(layer=layer)\n",
    "        # print(f'Transference:')\n",
    "        # print(supply_chain.transfer.sel(layer=layer).data)\n",
    "        # print(f'Intensities')\n",
    "        # print(transferred_intensity.data)\n",
    "        \n",
    "        print(f\"{len(current_generation)} parent nodes to check\")\n",
    "        print([s.process_name for s in current_generation])\n",
    "        \n",
    "        \n",
    "        # beyond first layer, we come in with the list of nodes must be checke\n",
    "        # and _then linked back to parents_ - which in the first instance is just root\n",
    "        # \n",
    "        \n",
    "        next_generation = []\n",
    "        last_layer_dict: dict[UUID,Node] = {}\n",
    "        heredity_dict: dict[str,list[UUID]] = {}\n",
    "        for node in current_generation:\n",
    "            # todo optimization: Don't do the calculation for a node that already exists\n",
    "            # todo instead, just threshold the _processes_ and then attach the relevant\n",
    "            # todo suppliers from each _process_ to the children of its _parents_\n",
    "            \n",
    "            \n",
    "            # the keys (process) are the elements that need to be checked\n",
    "            # when their contributions are determined, nodes lists\n",
    "            # the parents that have to be updated\n",
    "            this_layer_supply_intensity = transferred_intensity.sel(user=node.process_name)    \n",
    "        \n",
    "        \n",
    "            supplier_mask = (this_layer_supply_intensity>cutoff)\n",
    "            relevant_suppliers=this_layer_supply_intensity.supplier[supplier_mask].data\n",
    "            node.children = [Node(process_name=s) for s in relevant_suppliers]\n",
    "            next_generation.extend(node.children)\n",
    "            # for s in relevant_suppliers:\n",
    "                # if s not in heredity_dict.keys():\n",
    "                    # heredity_dict[s] = [node.]\n",
    "                # extend \n",
    "            print(' '*(1+layer) + f'{node.process_name} spawned {len(node.children)} children:')\n",
    "            print(' '*(2+layer) +' '.join([n.process_name for n in node.children]))\n",
    "        print('Next generation of processes:')# {process:spawning_parents}')\n",
    "        print([p.process_name for p in next_generation])\n",
    "            \n",
    "        \n",
    "        surface_area.append(len(next_generation))\n",
    "        total_nodes+=len(next_generation)\n",
    "        current_generation = set(next_generation) #just use names\n",
    "        # update the parents\n",
    "        \n",
    "    print(f\"Discovered {total_nodes} nodes in total\\n\")\n",
    "    print('Nodes per layer')\n",
    "    print(surface_area)\n",
    "\n",
    "tree = create_tree(toy_chain,'atoms',3,0.05)\n",
    "# comparison to pyspa\n",
    "#  It took 14 seconds to extract 4746 pathways and calculate 4755 remainders."
   ]
  },
  {
   "cell_type": "code",
   "execution_count": 47,
   "metadata": {},
   "outputs": [
    {
     "name": "stdout",
     "output_type": "stream",
     "text": [
      "atoms\n",
      "atoms\n",
      "cats\n"
     ]
    }
   ],
   "source": [
    "# check the structure of the tree\n",
    "def show_tree(node):\n",
    "    print(node.name)\n",
    "    for child in node.children:\n",
    "        print(child.name)\n",
    "    # for child in node.children:\n",
    "    #     show_tree(child)\n",
    "\n",
    "show_tree(tree)"
   ]
  },
  {
   "cell_type": "code",
   "execution_count": null,
   "metadata": {},
   "outputs": [],
   "source": [
    "toy_chain = create_chain(transaction_table,final_demand,direct_data,total_data,sector_list,max_layers,from_A=True)\n",
    "show_pld(toy_chain,'cats')"
   ]
  },
  {
   "cell_type": "code",
   "execution_count": 209,
   "metadata": {},
   "outputs": [
    {
     "ename": "AttributeError",
     "evalue": "'DataFrame' object has no attribute 'direct'",
     "output_type": "error",
     "traceback": [
      "\u001b[0;31m---------------------------------------------------------------------------\u001b[0m",
      "\u001b[0;31mAttributeError\u001b[0m                            Traceback (most recent call last)",
      "\u001b[0;32m/tmp/ipykernel_1188/662557706.py\u001b[0m in \u001b[0;36m?\u001b[0;34m()\u001b[0m\n\u001b[1;32m     65\u001b[0m \u001b[0;31m# chain=chain.merge(total)\u001b[0m\u001b[0;34m\u001b[0m\u001b[0;34m\u001b[0m\u001b[0m\n\u001b[1;32m     66\u001b[0m \u001b[0;34m\u001b[0m\u001b[0m\n\u001b[1;32m     67\u001b[0m \u001b[0;34m\u001b[0m\u001b[0m\n\u001b[1;32m     68\u001b[0m \u001b[0;34m\u001b[0m\u001b[0m\n\u001b[0;32m---> 69\u001b[0;31m chain = create_chain(tech_coef,satellite.direct.values,\n\u001b[0m\u001b[1;32m     70\u001b[0m                      \u001b[0msatellite\u001b[0m\u001b[0;34m.\u001b[0m\u001b[0mtotal\u001b[0m\u001b[0;34m.\u001b[0m\u001b[0mvalues\u001b[0m\u001b[0;34m,\u001b[0m\u001b[0msector_list\u001b[0m\u001b[0;34m,\u001b[0m\u001b[0mmax_layers\u001b[0m\u001b[0;34m=\u001b[0m\u001b[0;36m10\u001b[0m\u001b[0;34m)\u001b[0m\u001b[0;34m\u001b[0m\u001b[0;34m\u001b[0m\u001b[0m\n\u001b[1;32m     71\u001b[0m \u001b[0mchain\u001b[0m\u001b[0;34m\u001b[0m\u001b[0;34m\u001b[0m\u001b[0m\n",
      "\u001b[0;32m~/.cache/pypoetry/virtualenvs/non-package-mode-JBLCnCFX-py3.12/lib/python3.12/site-packages/pandas/core/generic.py\u001b[0m in \u001b[0;36m?\u001b[0;34m(self, name)\u001b[0m\n\u001b[1;32m   6295\u001b[0m             \u001b[0;32mand\u001b[0m \u001b[0mname\u001b[0m \u001b[0;32mnot\u001b[0m \u001b[0;32min\u001b[0m \u001b[0mself\u001b[0m\u001b[0;34m.\u001b[0m\u001b[0m_accessors\u001b[0m\u001b[0;34m\u001b[0m\u001b[0;34m\u001b[0m\u001b[0m\n\u001b[1;32m   6296\u001b[0m             \u001b[0;32mand\u001b[0m \u001b[0mself\u001b[0m\u001b[0;34m.\u001b[0m\u001b[0m_info_axis\u001b[0m\u001b[0;34m.\u001b[0m\u001b[0m_can_hold_identifiers_and_holds_name\u001b[0m\u001b[0;34m(\u001b[0m\u001b[0mname\u001b[0m\u001b[0;34m)\u001b[0m\u001b[0;34m\u001b[0m\u001b[0;34m\u001b[0m\u001b[0m\n\u001b[1;32m   6297\u001b[0m         \u001b[0;34m)\u001b[0m\u001b[0;34m:\u001b[0m\u001b[0;34m\u001b[0m\u001b[0;34m\u001b[0m\u001b[0m\n\u001b[1;32m   6298\u001b[0m             \u001b[0;32mreturn\u001b[0m \u001b[0mself\u001b[0m\u001b[0;34m[\u001b[0m\u001b[0mname\u001b[0m\u001b[0;34m]\u001b[0m\u001b[0;34m\u001b[0m\u001b[0;34m\u001b[0m\u001b[0m\n\u001b[0;32m-> 6299\u001b[0;31m         \u001b[0;32mreturn\u001b[0m \u001b[0mobject\u001b[0m\u001b[0;34m.\u001b[0m\u001b[0m__getattribute__\u001b[0m\u001b[0;34m(\u001b[0m\u001b[0mself\u001b[0m\u001b[0;34m,\u001b[0m \u001b[0mname\u001b[0m\u001b[0;34m)\u001b[0m\u001b[0;34m\u001b[0m\u001b[0;34m\u001b[0m\u001b[0m\n\u001b[0m",
      "\u001b[0;31mAttributeError\u001b[0m: 'DataFrame' object has no attribute 'direct'"
     ]
    }
   ],
   "source": [
    "# use real data\n",
    "\n",
    "tech_coef = np.genfromtxt('pyspa/A_matrix_template.csv',delimiter=',',skip_header=1)\n",
    "\n",
    "# we can infer the (normalised) final demand from\n",
    "#  inferred_demand = 1 - np.sum(tech_coef,axis=1)\n",
    "# but this is only the proportion of output that serves demand, not an absolute number\n",
    "# If using this then the scale of each sector is lost and should be included\n",
    "# by using the absolute direct intensity per sector (ie in kgCO2e) instead of the \n",
    "# specific direct intensity (kgCO2e/$) in order to put absolute numbers on the PLD.\n",
    "# Nonetheless, one can compute a _proportional_ PLD by setting the intensity vector to all 1s.\n",
    "\n",
    "# extended_table = np.concatenate([transaction_table,np.atleast_2d(final_demand).T],axis=1)\n",
    "# output = np.sum(extended_table,axis=1)\n",
    "# tech_coef = transaction_table/np.atleast_2d(output).T\n",
    "\n",
    "# sparsity about 1% ...\n",
    "\n",
    "meta=pd.read_csv('pyspa/infosheet_template.csv')\n",
    "# to retrieve nu\n",
    "sector_list = list(meta['Name'])\n",
    "sector_dict = meta[['Name','Sector number']].set_index('Name').to_dict()['Sector number']\n",
    "# useful later\n",
    "meta.set_index('Name',inplace=True)\n",
    "\n",
    "satellite = meta.copy()\n",
    "satellite.reset_index(inplace=True)\n",
    "satellite['supplier'] = satellite['Name']\n",
    "satellite = satellite[['supplier','DR_GHG_emissions_(kgCO2e)','TR_GHG_emissions_(kgCO2e)']]\n",
    "satellite.rename(columns ={\n",
    "    'DR_GHG_emissions_(kgCO2e)': 'direct_intensity',\n",
    "    'TR_GHG_emissions_(kgCO2e)': 'total_intensity'\n",
    "    } ,inplace=True)\n",
    "# satellite.set_index(['supplier'],inplace=True)\n",
    "# satellite_data = satellite.to_xarray()\n",
    "\n",
    "\n",
    "\n",
    "# supply_chain_data = np.zeros((*tech_coef.shape,max_layers))\n",
    "# layer_transfer = np.eye(tech_coef.shape[0])\n",
    "# for layer in range(max_layers):\n",
    "#     # create the next level of dependency\n",
    "#     supply_chain_data[:,:,layer] = np.dot(layer_transfer,tech_coef)\n",
    "#     layer_transfer = copy.copy(supply_chain_data[:,:,layer])\n",
    "\n",
    "# chain = xr.Dataset(data_vars={'transfer':(['supplier','user','layer'],\n",
    "#                                     supply_chain_data),\n",
    "#                                     'direct_intensity':(['supplier'],direct_data),\n",
    "#                                     'total_intensity':(['supplier'],total_data),\n",
    "#                                     'final_demand':(['supplier'],final_demand),\n",
    "#                                     'output':(['supplier'],output)}, \n",
    "#                         coords={'supplier':sector_list,\n",
    "#                                 'user':sector_list,\n",
    "#                                 'layer':range(max_layers)})\n",
    "\n",
    "\n",
    "\n",
    "# # construct other useful objects for downstream use\n",
    "# direct = chain.output*chain.direct_intensity\n",
    "# direct.name = 'absolute_direct'\n",
    "# chain=chain.merge(direct)\n",
    "\n",
    "# total = chain.output*chain.total_intensity\n",
    "# total.name = 'absolute_total'\n",
    "# chain=chain.merge(total)\n",
    "\n",
    "\n",
    "\n",
    "chain = create_chain(tech_coef,satellite.direct.values,\n",
    "                     satellite.total.values,sector_list,max_layers=10)\n",
    "chain"
   ]
  },
  {
   "cell_type": "code",
   "execution_count": null,
   "metadata": {},
   "outputs": [],
   "source": [
    "# what about this guy?"
   ]
  },
  {
   "cell_type": "code",
   "execution_count": 48,
   "metadata": {},
   "outputs": [
    {
     "name": "stdout",
     "output_type": "stream",
     "text": [
      "Scanning 3 layers of a 10-deep chain with cutoff 0.01\n",
      "  -=-  Results at layer 0\n",
      "1 parent nodes to check\n",
      "['Basic Chemical Manufacturing']\n",
      " Basic Chemical Manufacturing spawned 6 children:\n",
      "  Oil and gas extraction Petroleum and Coal Product Manufacturing Basic Chemical Manufacturing Electricity Generation Gas Supply Road Transport\n",
      "Next generation of processes:\n",
      "['Oil and gas extraction', 'Petroleum and Coal Product Manufacturing', 'Basic Chemical Manufacturing', 'Electricity Generation', 'Gas Supply', 'Road Transport']\n",
      "  -=-  Results at layer 1\n",
      "6 parent nodes to check\n",
      "['Oil and gas extraction', 'Petroleum and Coal Product Manufacturing', 'Basic Chemical Manufacturing', 'Electricity Generation', 'Gas Supply', 'Road Transport']\n",
      "  Oil and gas extraction spawned 1 children:\n",
      "   Electricity Generation\n",
      "  Petroleum and Coal Product Manufacturing spawned 2 children:\n",
      "   Oil and gas extraction Electricity Generation\n",
      "  Basic Chemical Manufacturing spawned 5 children:\n",
      "   Sheep, Grains, Beef and Dairy Cattle Oil and gas extraction Basic Chemical Manufacturing Electricity Generation Gas Supply\n",
      "  Electricity Generation spawned 3 children:\n",
      "   Exploration and Mining Support Services Electricity Generation Gas Supply\n",
      "  Gas Supply spawned 2 children:\n",
      "   Electricity Generation Gas Supply\n",
      "  Road Transport spawned 2 children:\n",
      "   Oil and gas extraction Electricity Generation\n",
      "Next generation of processes:\n",
      "['Electricity Generation', 'Oil and gas extraction', 'Electricity Generation', 'Sheep, Grains, Beef and Dairy Cattle', 'Oil and gas extraction', 'Basic Chemical Manufacturing', 'Electricity Generation', 'Gas Supply', 'Exploration and Mining Support Services', 'Electricity Generation', 'Gas Supply', 'Electricity Generation', 'Gas Supply', 'Oil and gas extraction', 'Electricity Generation']\n",
      "  -=-  Results at layer 2\n",
      "15 parent nodes to check\n",
      "['Electricity Generation', 'Oil and gas extraction', 'Electricity Generation', 'Sheep, Grains, Beef and Dairy Cattle', 'Oil and gas extraction', 'Basic Chemical Manufacturing', 'Electricity Generation', 'Gas Supply', 'Exploration and Mining Support Services', 'Electricity Generation', 'Gas Supply', 'Electricity Generation', 'Gas Supply', 'Oil and gas extraction', 'Electricity Generation']\n",
      "   Electricity Generation spawned 2 children:\n",
      "    Electricity Generation Gas Supply\n",
      "   Oil and gas extraction spawned 1 children:\n",
      "    Electricity Generation\n",
      "   Electricity Generation spawned 2 children:\n",
      "    Electricity Generation Gas Supply\n",
      "   Sheep, Grains, Beef and Dairy Cattle spawned 2 children:\n",
      "    Sheep, Grains, Beef and Dairy Cattle Electricity Generation\n",
      "   Oil and gas extraction spawned 1 children:\n",
      "    Electricity Generation\n",
      "   Basic Chemical Manufacturing spawned 3 children:\n",
      "    Sheep, Grains, Beef and Dairy Cattle Electricity Generation Gas Supply\n",
      "   Electricity Generation spawned 2 children:\n",
      "    Electricity Generation Gas Supply\n",
      "   Gas Supply spawned 2 children:\n",
      "    Electricity Generation Gas Supply\n",
      "   Exploration and Mining Support Services spawned 2 children:\n",
      "    Sheep, Grains, Beef and Dairy Cattle Electricity Generation\n",
      "   Electricity Generation spawned 2 children:\n",
      "    Electricity Generation Gas Supply\n",
      "   Gas Supply spawned 2 children:\n",
      "    Electricity Generation Gas Supply\n",
      "   Electricity Generation spawned 2 children:\n",
      "    Electricity Generation Gas Supply\n",
      "   Gas Supply spawned 2 children:\n",
      "    Electricity Generation Gas Supply\n",
      "   Oil and gas extraction spawned 1 children:\n",
      "    Electricity Generation\n",
      "   Electricity Generation spawned 2 children:\n",
      "    Electricity Generation Gas Supply\n",
      "Next generation of processes:\n",
      "['Electricity Generation', 'Gas Supply', 'Electricity Generation', 'Electricity Generation', 'Gas Supply', 'Sheep, Grains, Beef and Dairy Cattle', 'Electricity Generation', 'Electricity Generation', 'Sheep, Grains, Beef and Dairy Cattle', 'Electricity Generation', 'Gas Supply', 'Electricity Generation', 'Gas Supply', 'Electricity Generation', 'Gas Supply', 'Sheep, Grains, Beef and Dairy Cattle', 'Electricity Generation', 'Electricity Generation', 'Gas Supply', 'Electricity Generation', 'Gas Supply', 'Electricity Generation', 'Gas Supply', 'Electricity Generation', 'Gas Supply', 'Electricity Generation', 'Electricity Generation', 'Gas Supply']\n",
      "Discovered 49 nodes in total\n",
      "\n",
      "Nodes per layer\n",
      "[6, 15, 28]\n"
     ]
    }
   ],
   "source": [
    "big_tree = create_tree(chain,'Basic Chemical Manufacturing',10,0.01)"
   ]
  },
  {
   "cell_type": "code",
   "execution_count": null,
   "metadata": {},
   "outputs": [],
   "source": [
    "# flip the tree\n",
    "stages = []\n",
    "node = root\n"
   ]
  },
  {
   "cell_type": "code",
   "execution_count": null,
   "metadata": {},
   "outputs": [],
   "source": [
    "# outputs from pyspa\n",
    "# The percentage of contribution of that last node in that pathway, to the total intensity/multiplier/requirement of the selected sector/process is provided\n",
    "# The value of the corresponding direct intensity/multiplier/requirement\n",
    "# The value of the corresponding total intensity/multiplier/requirement\n",
    "# The name of each node in the pathway, for each stage of the supply chain (1 to n)."
   ]
  },
  {
   "cell_type": "code",
   "execution_count": null,
   "metadata": {},
   "outputs": [],
   "source": [
    "# their example uses threshold 1e-5, so let's adopt that and see if anything similar comes up\n"
   ]
  },
  {
   "cell_type": "markdown",
   "metadata": {},
   "source": [
    "# PySPA\n",
    "\n",
    "Rough workflow\n",
    "\n",
    "SingleSUImportsAsPI()\n",
    "    Prepares data for IO analysis in SU format\n",
    "\n",
    "if there is a single region, there are imports\n",
    "in a multi region (eg the tutorial), no imports \n",
    "\n",
    "SU_to_iot\n",
    "    Optional \n",
    "\n",
    "IOanalysis\n",
    "    Produces TIM and DIM (m and q)\n",
    "    Works in IOT or SU\n",
    "    If using SU for example, other vectors (x) need same extent (product,sector)\n",
    "\n",
    "SPA\n"
   ]
  },
  {
   "cell_type": "code",
   "execution_count": 1,
   "metadata": {},
   "outputs": [
    {
     "name": "stdout",
     "output_type": "stream",
     "text": [
      "/workspaces/spa-path-exchange\n"
     ]
    },
    {
     "name": "stderr",
     "output_type": "stream",
     "text": [
      "/home/vscode/.cache/pypoetry/virtualenvs/non-package-mode-JBLCnCFX-py3.12/lib/python3.12/site-packages/IPython/core/magics/osm.py:417: UserWarning: This is now an optional IPython functionality, setting dhist requires you to install the `pickleshare` library.\n",
      "  self.shell.db['dhist'] = compress_dhist(dhist)[-100:]\n"
     ]
    }
   ],
   "source": [
    "\n",
    "cd /workspaces/spa-path-exchange/"
   ]
  },
  {
   "cell_type": "code",
   "execution_count": 2,
   "metadata": {},
   "outputs": [
    {
     "name": "stderr",
     "output_type": "stream",
     "text": [
      "/workspaces/spa-path-exchange/pyspa/pyspa.py:51: SyntaxWarning: invalid escape sequence '\\/'\n",
      "  for char in \"\\/:*?<>|\":\n"
     ]
    },
    {
     "name": "stdout",
     "output_type": "stream",
     "text": [
      "Reading infosheet...Done\n",
      "Extracting names of satellites...Done\n",
      "Reading Thresholds...Done\n",
      "Reading A matrix...Done\n",
      "Validating read data...The A matrix loaded is square and contains 114 sectors/processes across 1 region(s), and is described in the infosheet provided, for 1 satellite(s)...Done\n",
      "Generating vectors of direct and total multipliers...Done\n",
      "------ Ready to conduct the Structural Path Analysis ------\n",
      "Supply Chain object created, extracting pathways, which will take some time...\n",
      "Started at 01:46:43\n",
      "Now calculating remainders\n",
      "Ended at 01:46:57. It took 14 seconds to extract 4746 pathways and calculate 4755 remainders.\n",
      "Started at 01:46:43\n"
     ]
    }
   ],
   "source": [
    "# package is on pip but we'll probably want to mangle the source code\n",
    "# that's actually pretty fast\n",
    "#  It took 14 seconds to extract 4746 pathways and calculate 4755 remainders.\n",
    "from pyspa import pyspa\n",
    "sc = pyspa.get_spa(target_ID = 70, \n",
    "                   max_stage = 10,\n",
    "                   a_matrix ='pyspa/A_matrix_template.csv', \n",
    "                   infosheet='pyspa/Infosheet_template.csv',\n",
    "                   thresholds='pyspa/Thresholds_template.csv')"
   ]
  },
  {
   "cell_type": "code",
   "execution_count": 3,
   "metadata": {},
   "outputs": [],
   "source": [
    "sc.export_to_csv('spa_results.csv')\n",
    "# csv is broken, uneven number of entries per row\n",
    "# Supply_Chain._generate_spa_table_header()  sets the number of 'stages'\n",
    "# has attribute max_stages, use this to inform pathway.print_\n",
    "# pathway.print_ makes a string which is as long as the num nodes\n",
    "# so just need to add more tabs to make up the difference\n",
    "\n",
    "\n",
    "# eg\n",
    "# [Index reference 69 [S0], Index reference 45 [S1]]\n",
    "# '2.923900%\\t0.010636955136012228\\t0.022528695752242738\\tCement, Lime and Ready-Mixed Concrete Manufacturing\\t'\n",
    "\n",
    "#[Index reference 69 [S0], Index reference 36 [S1], Index reference 8 [S2]]\n",
    "# '1.255238%\\t0.004566472997184868\\t0.006572335047809824\\tPetroleum and Coal Product Manufacturing\\tOil and gas extraction\\t'\n",
    "# seems like: num stages = num nodes - 1\n",
    "# num_stage_delimiters = max_stage-1 # there isn't one at the end\n",
    "# additional_tabs = max_stage-1 - num_nodes # each node appends a \\t\n"
   ]
  },
  {
   "cell_type": "code",
   "execution_count": null,
   "metadata": {},
   "outputs": [],
   "source": [
    "# 10 mins under the hood\n",
    "# main function\n",
    "# interface = Interface(A_matrix,infosheet,thresholds) # takes paths to files, not objs\n",
    "# sc SupplyChain.make(interface,params)\n",
    "# sc.extract_pathways()\n",
    "# optionally calculate remainder\n",
    "# save\n",
    "\n",
    "# SupplyChain is the big monster\n",
    "\n",
    "\n",
    "#init:\n",
    "    # nothing too fancy\n",
    "    # assign local attris\n",
    "    # validate\n",
    "    # add extraction stages\n",
    "        # actually adds the method to the SupplyChain class, so in principle you could add another one\n",
    "        # gets nonzero entries for a given sector and ??? creates next level of tree\n",
    "        # '_extract_stage_%s_pathway is the method name\n",
    "    \n",
    "# extract_pathways\n",
    "# # calls the extract_stage_1_pathway which then calls...\n",
    "#                     if stage < self.max_stage:\n",
    "#                         eval('self._extract_stage_%s_pathway(input_sector, acc_tech_coeff, thresholds_dict)' %\n",
    "#                              str(stage + 1))\n",
    "# that looks.... pretty sketchy! \n",
    "# it also does a whole lot of single-element slicing and multiplication, realistically this is probably where\n",
    "# all the compute time goes... I think we can do much better with a matrix approach\n",
    "# the Pathways are probably a useful construct thouhg\n",
    "\n"
   ]
  }
 ],
 "metadata": {
  "kernelspec": {
   "display_name": "non-package-mode-JBLCnCFX-py3.12",
   "language": "python",
   "name": "python3"
  },
  "language_info": {
   "codemirror_mode": {
    "name": "ipython",
    "version": 3
   },
   "file_extension": ".py",
   "mimetype": "text/x-python",
   "name": "python",
   "nbconvert_exporter": "python",
   "pygments_lexer": "ipython3",
   "version": "3.12.3"
  }
 },
 "nbformat": 4,
 "nbformat_minor": 2
}
