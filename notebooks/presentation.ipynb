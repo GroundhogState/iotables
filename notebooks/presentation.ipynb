{
 "cells": [
  {
   "cell_type": "code",
   "execution_count": null,
   "metadata": {},
   "outputs": [],
   "source": [
    "# figures for the presentation\n"
   ]
  },
  {
   "cell_type": "markdown",
   "metadata": {},
   "source": [
    "### Data inputs\n",
    "\n",
    "Wiedmann et al: Single region SU format\n",
    "\n",
    "`data/tutorial/` has two-region SU format from the su-to-siot example\n",
    "\n",
    "<!-- It needs transformation into symmetric form to be useful for SPA and PLD. -->\n",
    "\n",
    "`data/gloria/` : Gloria data for Australia, in SU format. ****\n",
    "\n",
    "`data/gloria/full` : multi-region model\n"
   ]
  },
  {
   "cell_type": "code",
   "execution_count": 3,
   "metadata": {},
   "outputs": [
    {
     "data": {
      "text/plain": [
       "array([   0.,    0.,    0.,    0.,   10.,  142.,  184.,  120.,    0.,\n",
       "          0.,    0.,    0.,  145.,  235.,  950., 1240.])"
      ]
     },
     "execution_count": 3,
     "metadata": {},
     "output_type": "execute_result"
    }
   ],
   "source": [
    "# use Wiedmann data as example\n",
    "\n",
    "# translate from PxI format to PxP using tim's code\n",
    "# use that A matrix to populat the PLD\n",
    "# then do an SPA \n",
    "import numpy as np\n",
    "\n",
    "transaction_table = np.genfromtxt('data/tutorial/T.csv', delimiter=\",\", dtype=float)\n",
    "primary_inputs = np.genfromtxt('data/tutorial/V.csv', delimiter=\",\", dtype=float)\n",
    "final_demand = np.genfromtxt('data/tutorial/Y.csv', delimiter=\",\", dtype=float)\n",
    "multipliers = np.genfromtxt('data/tutorial/TQ.csv', delimiter=\",\", dtype=float)\n",
    "# impacts\n",
    "io_table = IOTable(transaction_table,\n",
    "                    final_demand,\n",
    "                    # satellite_data,\n",
    "                    primary_inputs,\n",
    "                    num_sectors,\n",
    "                    num_countries,\n",
    "                    multipliers)"
   ]
  },
  {
   "cell_type": "code",
   "execution_count": null,
   "metadata": {},
   "outputs": [],
   "source": [
    "# create"
   ]
  },
  {
   "cell_type": "code",
   "execution_count": null,
   "metadata": {},
   "outputs": [],
   "source": [
    "# PLD\n",
    "# need\n",
    "toy_chain = create_chain(transaction_table,\n",
    "                         final_demand,\n",
    "                        direct_data,\n",
    "                        total_data,\n",
    "                        sector_list,\n",
    "                        max_layers)\n",
    "show_pld(toy_chain,'cats')"
   ]
  },
  {
   "cell_type": "code",
   "execution_count": null,
   "metadata": {},
   "outputs": [],
   "source": [
    "# SPA\n",
    "# use pyspa"
   ]
  }
 ],
 "metadata": {
  "kernelspec": {
   "display_name": "non-package-mode-JBLCnCFX-py3.12",
   "language": "python",
   "name": "python3"
  },
  "language_info": {
   "codemirror_mode": {
    "name": "ipython",
    "version": 3
   },
   "file_extension": ".py",
   "mimetype": "text/x-python",
   "name": "python",
   "nbconvert_exporter": "python",
   "pygments_lexer": "ipython3",
   "version": "3.12.3"
  }
 },
 "nbformat": 4,
 "nbformat_minor": 2
}
